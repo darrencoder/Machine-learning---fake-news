{
 "cells": [
  {
   "cell_type": "code",
   "execution_count": 1,
   "metadata": {},
   "outputs": [],
   "source": [
    "## Import packages\n",
    "import numpy as np\n",
    "import pandas as pd\n",
    "import copy\n",
    "# from sklearn.preprocessing import StandardScaler\n",
    "from scipy.sparse import hstack\n",
    "from sklearn.preprocessing import StandardScaler, LabelEncoder, LabelBinarizer\n",
    "from sklearn.feature_extraction.text import TfidfVectorizer\n",
    "\n",
    "import matplotlib.pyplot as plt\n",
    "import seaborn as sns\n",
    "\n",
    "plt.style.use('ggplot')"
   ]
  },
  {
   "cell_type": "code",
   "execution_count": 2,
   "metadata": {},
   "outputs": [],
   "source": [
    "train = pd.read_csv('merge_train_text/merged_train_data.csv')\n",
    "test = pd.read_csv('merge_test_text/merged_test_data.csv')"
   ]
  },
  {
   "cell_type": "code",
   "execution_count": 3,
   "metadata": {},
   "outputs": [],
   "source": [
    "from sklearn.preprocessing import LabelEncoder #for ordinal data \n",
    "\n",
    "labelencoder = LabelEncoder()\n",
    "train['Polarity_category'] = labelencoder.fit_transform(train['Polarity_category'])\n",
    "test['Polarity_category'] = labelencoder.fit_transform(test['Polarity_category'])\n",
    "#transform to int and create new attribute  [col]"
   ]
  },
  {
   "cell_type": "code",
   "execution_count": 4,
   "metadata": {},
   "outputs": [
    {
     "name": "stdout",
     "output_type": "stream",
     "text": [
      "Polarity_category\n",
      "0     4138\n",
      "1      888\n",
      "2    15774\n",
      "Name: id, dtype: int64\n",
      "Polarity_category\n",
      "0     967\n",
      "1     210\n",
      "2    4023\n",
      "Name: id, dtype: int64\n"
     ]
    }
   ],
   "source": [
    "print(train.groupby('Polarity_category')['id'].nunique())\n",
    "print(test.groupby('Polarity_category')['id'].nunique())"
   ]
  },
  {
   "cell_type": "code",
   "execution_count": 5,
   "metadata": {},
   "outputs": [
    {
     "data": {
      "text/html": [
       "<div>\n",
       "<style scoped>\n",
       "    .dataframe tbody tr th:only-of-type {\n",
       "        vertical-align: middle;\n",
       "    }\n",
       "\n",
       "    .dataframe tbody tr th {\n",
       "        vertical-align: top;\n",
       "    }\n",
       "\n",
       "    .dataframe thead th {\n",
       "        text-align: right;\n",
       "    }\n",
       "</style>\n",
       "<table border=\"1\" class=\"dataframe\">\n",
       "  <thead>\n",
       "    <tr style=\"text-align: right;\">\n",
       "      <th></th>\n",
       "      <th>id</th>\n",
       "      <th>title</th>\n",
       "      <th>text</th>\n",
       "      <th>K_means</th>\n",
       "      <th>label</th>\n",
       "      <th>LDA_Dominant_Topic</th>\n",
       "      <th>text_vader_compound</th>\n",
       "      <th>tb_Pol</th>\n",
       "      <th>tb_Subj</th>\n",
       "      <th>Polarity_category</th>\n",
       "    </tr>\n",
       "  </thead>\n",
       "  <tbody>\n",
       "    <tr>\n",
       "      <th>0</th>\n",
       "      <td>0</td>\n",
       "      <td>House Dem Aide: We Didn’t Even See Comey’s Let...</td>\n",
       "      <td>House Dem Aide: We Didn’t Even See Comey’s Let...</td>\n",
       "      <td>2</td>\n",
       "      <td>1</td>\n",
       "      <td>2.0</td>\n",
       "      <td>0.5431</td>\n",
       "      <td>0.026726</td>\n",
       "      <td>0.456226</td>\n",
       "      <td>2</td>\n",
       "    </tr>\n",
       "    <tr>\n",
       "      <th>1</th>\n",
       "      <td>1</td>\n",
       "      <td>FLYNN: Hillary Clinton, Big Woman on Campus - ...</td>\n",
       "      <td>Ever get the feeling your life circles the rou...</td>\n",
       "      <td>1</td>\n",
       "      <td>0</td>\n",
       "      <td>2.0</td>\n",
       "      <td>-0.4405</td>\n",
       "      <td>0.077613</td>\n",
       "      <td>0.485211</td>\n",
       "      <td>2</td>\n",
       "    </tr>\n",
       "    <tr>\n",
       "      <th>2</th>\n",
       "      <td>2</td>\n",
       "      <td>Why the Truth Might Get You Fired</td>\n",
       "      <td>Why the Truth Might Get You Fired October 29, ...</td>\n",
       "      <td>2</td>\n",
       "      <td>1</td>\n",
       "      <td>0.0</td>\n",
       "      <td>0.9853</td>\n",
       "      <td>0.083994</td>\n",
       "      <td>0.418484</td>\n",
       "      <td>2</td>\n",
       "    </tr>\n",
       "    <tr>\n",
       "      <th>3</th>\n",
       "      <td>3</td>\n",
       "      <td>15 Civilians Killed In Single US Airstrike Hav...</td>\n",
       "      <td>Videos 15 Civilians Killed In Single US Airstr...</td>\n",
       "      <td>2</td>\n",
       "      <td>1</td>\n",
       "      <td>0.0</td>\n",
       "      <td>-0.9993</td>\n",
       "      <td>0.021485</td>\n",
       "      <td>0.251616</td>\n",
       "      <td>2</td>\n",
       "    </tr>\n",
       "    <tr>\n",
       "      <th>4</th>\n",
       "      <td>4</td>\n",
       "      <td>Iranian woman jailed for fictional unpublished...</td>\n",
       "      <td>Print \\nAn Iranian woman has been sentenced to...</td>\n",
       "      <td>2</td>\n",
       "      <td>1</td>\n",
       "      <td>0.0</td>\n",
       "      <td>-0.9517</td>\n",
       "      <td>0.047143</td>\n",
       "      <td>0.197143</td>\n",
       "      <td>2</td>\n",
       "    </tr>\n",
       "  </tbody>\n",
       "</table>\n",
       "</div>"
      ],
      "text/plain": [
       "   id                                              title  \\\n",
       "0   0  House Dem Aide: We Didn’t Even See Comey’s Let...   \n",
       "1   1  FLYNN: Hillary Clinton, Big Woman on Campus - ...   \n",
       "2   2                  Why the Truth Might Get You Fired   \n",
       "3   3  15 Civilians Killed In Single US Airstrike Hav...   \n",
       "4   4  Iranian woman jailed for fictional unpublished...   \n",
       "\n",
       "                                                text  K_means  label  \\\n",
       "0  House Dem Aide: We Didn’t Even See Comey’s Let...        2      1   \n",
       "1  Ever get the feeling your life circles the rou...        1      0   \n",
       "2  Why the Truth Might Get You Fired October 29, ...        2      1   \n",
       "3  Videos 15 Civilians Killed In Single US Airstr...        2      1   \n",
       "4  Print \\nAn Iranian woman has been sentenced to...        2      1   \n",
       "\n",
       "   LDA_Dominant_Topic  text_vader_compound    tb_Pol   tb_Subj  \\\n",
       "0                 2.0               0.5431  0.026726  0.456226   \n",
       "1                 2.0              -0.4405  0.077613  0.485211   \n",
       "2                 0.0               0.9853  0.083994  0.418484   \n",
       "3                 0.0              -0.9993  0.021485  0.251616   \n",
       "4                 0.0              -0.9517  0.047143  0.197143   \n",
       "\n",
       "   Polarity_category  \n",
       "0                  2  \n",
       "1                  2  \n",
       "2                  2  \n",
       "3                  2  \n",
       "4                  2  "
      ]
     },
     "execution_count": 5,
     "metadata": {},
     "output_type": "execute_result"
    }
   ],
   "source": [
    "train.head(5)"
   ]
  },
  {
   "cell_type": "code",
   "execution_count": 6,
   "metadata": {},
   "outputs": [
    {
     "data": {
      "text/plain": [
       "0     1114\n",
       "1     1656\n",
       "2    10298\n",
       "3     5073\n",
       "4     2659\n",
       "Name: K_means, dtype: int64"
      ]
     },
     "execution_count": 6,
     "metadata": {},
     "output_type": "execute_result"
    }
   ],
   "source": [
    "train['K_means'].value_counts().sort_index()"
   ]
  },
  {
   "cell_type": "code",
   "execution_count": 7,
   "metadata": {},
   "outputs": [
    {
     "data": {
      "text/html": [
       "<div>\n",
       "<style scoped>\n",
       "    .dataframe tbody tr th:only-of-type {\n",
       "        vertical-align: middle;\n",
       "    }\n",
       "\n",
       "    .dataframe tbody tr th {\n",
       "        vertical-align: top;\n",
       "    }\n",
       "\n",
       "    .dataframe thead th {\n",
       "        text-align: right;\n",
       "    }\n",
       "</style>\n",
       "<table border=\"1\" class=\"dataframe\">\n",
       "  <thead>\n",
       "    <tr style=\"text-align: right;\">\n",
       "      <th></th>\n",
       "      <th>K_means</th>\n",
       "    </tr>\n",
       "  </thead>\n",
       "  <tbody>\n",
       "    <tr>\n",
       "      <th>0</th>\n",
       "      <td>1114</td>\n",
       "    </tr>\n",
       "    <tr>\n",
       "      <th>1</th>\n",
       "      <td>1656</td>\n",
       "    </tr>\n",
       "    <tr>\n",
       "      <th>2</th>\n",
       "      <td>10298</td>\n",
       "    </tr>\n",
       "    <tr>\n",
       "      <th>3</th>\n",
       "      <td>5073</td>\n",
       "    </tr>\n",
       "    <tr>\n",
       "      <th>4</th>\n",
       "      <td>2659</td>\n",
       "    </tr>\n",
       "  </tbody>\n",
       "</table>\n",
       "</div>"
      ],
      "text/plain": [
       "   K_means\n",
       "0     1114\n",
       "1     1656\n",
       "2    10298\n",
       "3     5073\n",
       "4     2659"
      ]
     },
     "execution_count": 7,
     "metadata": {},
     "output_type": "execute_result"
    }
   ],
   "source": [
    "train_kmeans_count = pd.DataFrame(train['K_means'].value_counts().sort_index(),columns=['K_means'])\n",
    "train_kmeans_count"
   ]
  },
  {
   "cell_type": "code",
   "execution_count": 8,
   "metadata": {},
   "outputs": [
    {
     "data": {
      "text/html": [
       "<div>\n",
       "<style scoped>\n",
       "    .dataframe tbody tr th:only-of-type {\n",
       "        vertical-align: middle;\n",
       "    }\n",
       "\n",
       "    .dataframe tbody tr th {\n",
       "        vertical-align: top;\n",
       "    }\n",
       "\n",
       "    .dataframe thead th {\n",
       "        text-align: right;\n",
       "    }\n",
       "</style>\n",
       "<table border=\"1\" class=\"dataframe\">\n",
       "  <thead>\n",
       "    <tr style=\"text-align: right;\">\n",
       "      <th></th>\n",
       "      <th>LDA_Dominant_Topic</th>\n",
       "    </tr>\n",
       "  </thead>\n",
       "  <tbody>\n",
       "    <tr>\n",
       "      <th>0.0</th>\n",
       "      <td>6598</td>\n",
       "    </tr>\n",
       "    <tr>\n",
       "      <th>1.0</th>\n",
       "      <td>2711</td>\n",
       "    </tr>\n",
       "    <tr>\n",
       "      <th>2.0</th>\n",
       "      <td>6668</td>\n",
       "    </tr>\n",
       "    <tr>\n",
       "      <th>3.0</th>\n",
       "      <td>4347</td>\n",
       "    </tr>\n",
       "    <tr>\n",
       "      <th>4.0</th>\n",
       "      <td>476</td>\n",
       "    </tr>\n",
       "  </tbody>\n",
       "</table>\n",
       "</div>"
      ],
      "text/plain": [
       "     LDA_Dominant_Topic\n",
       "0.0                6598\n",
       "1.0                2711\n",
       "2.0                6668\n",
       "3.0                4347\n",
       "4.0                 476"
      ]
     },
     "execution_count": 8,
     "metadata": {},
     "output_type": "execute_result"
    }
   ],
   "source": [
    "train_lda_count = pd.DataFrame(train['LDA_Dominant_Topic'].value_counts().sort_index(),columns=['LDA_Dominant_Topic'])\n",
    "train_lda_count"
   ]
  },
  {
   "cell_type": "code",
   "execution_count": 9,
   "metadata": {
    "scrolled": true
   },
   "outputs": [
    {
     "data": {
      "text/html": [
       "<div>\n",
       "<style scoped>\n",
       "    .dataframe tbody tr th:only-of-type {\n",
       "        vertical-align: middle;\n",
       "    }\n",
       "\n",
       "    .dataframe tbody tr th {\n",
       "        vertical-align: top;\n",
       "    }\n",
       "\n",
       "    .dataframe thead th {\n",
       "        text-align: right;\n",
       "    }\n",
       "</style>\n",
       "<table border=\"1\" class=\"dataframe\">\n",
       "  <thead>\n",
       "    <tr style=\"text-align: right;\">\n",
       "      <th></th>\n",
       "      <th>id</th>\n",
       "      <th>title</th>\n",
       "      <th>text</th>\n",
       "      <th>K_means</th>\n",
       "      <th>LDA_Dominant_Topic</th>\n",
       "      <th>text_vader_compound</th>\n",
       "      <th>text_vader_neg</th>\n",
       "      <th>text_vader_neu</th>\n",
       "      <th>text_vader_pos</th>\n",
       "      <th>tb_Pol</th>\n",
       "      <th>tb_Subj</th>\n",
       "      <th>Polarity_category</th>\n",
       "    </tr>\n",
       "  </thead>\n",
       "  <tbody>\n",
       "    <tr>\n",
       "      <th>0</th>\n",
       "      <td>20800</td>\n",
       "      <td>Specter of Trump Loosens Tongues, if Not Purse...</td>\n",
       "      <td>PALO ALTO, Calif.  —   After years of scorning...</td>\n",
       "      <td>0</td>\n",
       "      <td>1.0</td>\n",
       "      <td>0.9957</td>\n",
       "      <td>0.028</td>\n",
       "      <td>0.898</td>\n",
       "      <td>0.074</td>\n",
       "      <td>0.071113</td>\n",
       "      <td>0.411889</td>\n",
       "      <td>2</td>\n",
       "    </tr>\n",
       "    <tr>\n",
       "      <th>1</th>\n",
       "      <td>20801</td>\n",
       "      <td>Russian warships ready to strike terrorists ne...</td>\n",
       "      <td>Russian warships ready to strike terrorists ne...</td>\n",
       "      <td>1</td>\n",
       "      <td>4.0</td>\n",
       "      <td>-0.9670</td>\n",
       "      <td>0.171</td>\n",
       "      <td>0.729</td>\n",
       "      <td>0.100</td>\n",
       "      <td>0.076509</td>\n",
       "      <td>0.314263</td>\n",
       "      <td>2</td>\n",
       "    </tr>\n",
       "    <tr>\n",
       "      <th>2</th>\n",
       "      <td>20802</td>\n",
       "      <td>#NoDAPL: Native American Leaders Vow to Stay A...</td>\n",
       "      <td>Videos #NoDAPL: Native American Leaders Vow to...</td>\n",
       "      <td>1</td>\n",
       "      <td>1.0</td>\n",
       "      <td>-0.9926</td>\n",
       "      <td>0.113</td>\n",
       "      <td>0.839</td>\n",
       "      <td>0.047</td>\n",
       "      <td>-0.012060</td>\n",
       "      <td>0.343737</td>\n",
       "      <td>0</td>\n",
       "    </tr>\n",
       "    <tr>\n",
       "      <th>3</th>\n",
       "      <td>20803</td>\n",
       "      <td>Tim Tebow Will Attempt Another Comeback, This ...</td>\n",
       "      <td>If at first you don’t succeed, try a different...</td>\n",
       "      <td>0</td>\n",
       "      <td>1.0</td>\n",
       "      <td>0.9981</td>\n",
       "      <td>0.023</td>\n",
       "      <td>0.839</td>\n",
       "      <td>0.138</td>\n",
       "      <td>0.154540</td>\n",
       "      <td>0.427795</td>\n",
       "      <td>2</td>\n",
       "    </tr>\n",
       "    <tr>\n",
       "      <th>4</th>\n",
       "      <td>20804</td>\n",
       "      <td>Keiser Report: Meme Wars (E995)</td>\n",
       "      <td>42 mins ago 1 Views 0 Comments 0 Likes 'For th...</td>\n",
       "      <td>1</td>\n",
       "      <td>2.0</td>\n",
       "      <td>0.7650</td>\n",
       "      <td>0.012</td>\n",
       "      <td>0.908</td>\n",
       "      <td>0.080</td>\n",
       "      <td>0.111806</td>\n",
       "      <td>0.335417</td>\n",
       "      <td>2</td>\n",
       "    </tr>\n",
       "  </tbody>\n",
       "</table>\n",
       "</div>"
      ],
      "text/plain": [
       "      id                                              title  \\\n",
       "0  20800  Specter of Trump Loosens Tongues, if Not Purse...   \n",
       "1  20801  Russian warships ready to strike terrorists ne...   \n",
       "2  20802  #NoDAPL: Native American Leaders Vow to Stay A...   \n",
       "3  20803  Tim Tebow Will Attempt Another Comeback, This ...   \n",
       "4  20804                    Keiser Report: Meme Wars (E995)   \n",
       "\n",
       "                                                text  K_means  \\\n",
       "0  PALO ALTO, Calif.  —   After years of scorning...        0   \n",
       "1  Russian warships ready to strike terrorists ne...        1   \n",
       "2  Videos #NoDAPL: Native American Leaders Vow to...        1   \n",
       "3  If at first you don’t succeed, try a different...        0   \n",
       "4  42 mins ago 1 Views 0 Comments 0 Likes 'For th...        1   \n",
       "\n",
       "   LDA_Dominant_Topic  text_vader_compound  text_vader_neg  text_vader_neu  \\\n",
       "0                 1.0               0.9957           0.028           0.898   \n",
       "1                 4.0              -0.9670           0.171           0.729   \n",
       "2                 1.0              -0.9926           0.113           0.839   \n",
       "3                 1.0               0.9981           0.023           0.839   \n",
       "4                 2.0               0.7650           0.012           0.908   \n",
       "\n",
       "   text_vader_pos    tb_Pol   tb_Subj  Polarity_category  \n",
       "0           0.074  0.071113  0.411889                  2  \n",
       "1           0.100  0.076509  0.314263                  2  \n",
       "2           0.047 -0.012060  0.343737                  0  \n",
       "3           0.138  0.154540  0.427795                  2  \n",
       "4           0.080  0.111806  0.335417                  2  "
      ]
     },
     "execution_count": 9,
     "metadata": {},
     "output_type": "execute_result"
    }
   ],
   "source": [
    "test.head(5)"
   ]
  },
  {
   "cell_type": "code",
   "execution_count": 10,
   "metadata": {},
   "outputs": [
    {
     "data": {
      "text/plain": [
       "0    1312\n",
       "1    2458\n",
       "2     386\n",
       "3     790\n",
       "4     254\n",
       "Name: K_means, dtype: int64"
      ]
     },
     "execution_count": 10,
     "metadata": {},
     "output_type": "execute_result"
    }
   ],
   "source": [
    "test['K_means'].value_counts().sort_index()"
   ]
  },
  {
   "cell_type": "code",
   "execution_count": 11,
   "metadata": {},
   "outputs": [
    {
     "data": {
      "text/html": [
       "<div>\n",
       "<style scoped>\n",
       "    .dataframe tbody tr th:only-of-type {\n",
       "        vertical-align: middle;\n",
       "    }\n",
       "\n",
       "    .dataframe tbody tr th {\n",
       "        vertical-align: top;\n",
       "    }\n",
       "\n",
       "    .dataframe thead th {\n",
       "        text-align: right;\n",
       "    }\n",
       "</style>\n",
       "<table border=\"1\" class=\"dataframe\">\n",
       "  <thead>\n",
       "    <tr style=\"text-align: right;\">\n",
       "      <th></th>\n",
       "      <th>K_means</th>\n",
       "    </tr>\n",
       "  </thead>\n",
       "  <tbody>\n",
       "    <tr>\n",
       "      <th>0</th>\n",
       "      <td>1312</td>\n",
       "    </tr>\n",
       "    <tr>\n",
       "      <th>1</th>\n",
       "      <td>2458</td>\n",
       "    </tr>\n",
       "    <tr>\n",
       "      <th>2</th>\n",
       "      <td>386</td>\n",
       "    </tr>\n",
       "    <tr>\n",
       "      <th>3</th>\n",
       "      <td>790</td>\n",
       "    </tr>\n",
       "    <tr>\n",
       "      <th>4</th>\n",
       "      <td>254</td>\n",
       "    </tr>\n",
       "  </tbody>\n",
       "</table>\n",
       "</div>"
      ],
      "text/plain": [
       "   K_means\n",
       "0     1312\n",
       "1     2458\n",
       "2      386\n",
       "3      790\n",
       "4      254"
      ]
     },
     "execution_count": 11,
     "metadata": {},
     "output_type": "execute_result"
    }
   ],
   "source": [
    "test_kmeans_count = pd.DataFrame(test['K_means'].value_counts().sort_index(),columns=['K_means'])\n",
    "test_kmeans_count"
   ]
  },
  {
   "cell_type": "code",
   "execution_count": 12,
   "metadata": {},
   "outputs": [
    {
     "data": {
      "text/html": [
       "<div>\n",
       "<style scoped>\n",
       "    .dataframe tbody tr th:only-of-type {\n",
       "        vertical-align: middle;\n",
       "    }\n",
       "\n",
       "    .dataframe tbody tr th {\n",
       "        vertical-align: top;\n",
       "    }\n",
       "\n",
       "    .dataframe thead th {\n",
       "        text-align: right;\n",
       "    }\n",
       "</style>\n",
       "<table border=\"1\" class=\"dataframe\">\n",
       "  <thead>\n",
       "    <tr style=\"text-align: right;\">\n",
       "      <th></th>\n",
       "      <th>LDA_Dominant_Topic</th>\n",
       "    </tr>\n",
       "  </thead>\n",
       "  <tbody>\n",
       "    <tr>\n",
       "      <th>0.0</th>\n",
       "      <td>1009</td>\n",
       "    </tr>\n",
       "    <tr>\n",
       "      <th>1.0</th>\n",
       "      <td>1955</td>\n",
       "    </tr>\n",
       "    <tr>\n",
       "      <th>2.0</th>\n",
       "      <td>1318</td>\n",
       "    </tr>\n",
       "    <tr>\n",
       "      <th>3.0</th>\n",
       "      <td>61</td>\n",
       "    </tr>\n",
       "    <tr>\n",
       "      <th>4.0</th>\n",
       "      <td>857</td>\n",
       "    </tr>\n",
       "  </tbody>\n",
       "</table>\n",
       "</div>"
      ],
      "text/plain": [
       "     LDA_Dominant_Topic\n",
       "0.0                1009\n",
       "1.0                1955\n",
       "2.0                1318\n",
       "3.0                  61\n",
       "4.0                 857"
      ]
     },
     "execution_count": 12,
     "metadata": {},
     "output_type": "execute_result"
    }
   ],
   "source": [
    "test_lda_count = pd.DataFrame(test['LDA_Dominant_Topic'].value_counts().sort_index(),columns=['LDA_Dominant_Topic'])\n",
    "test_lda_count"
   ]
  },
  {
   "cell_type": "code",
   "execution_count": 13,
   "metadata": {},
   "outputs": [
    {
     "name": "stdout",
     "output_type": "stream",
     "text": [
      "(5200, 12)\n",
      "(20800, 10)\n"
     ]
    }
   ],
   "source": [
    "print (test.shape)\n",
    "print(train.shape)"
   ]
  },
  {
   "cell_type": "code",
   "execution_count": 14,
   "metadata": {},
   "outputs": [],
   "source": [
    "# np.array_equal(train.id, train.id.astype(int))"
   ]
  },
  {
   "cell_type": "code",
   "execution_count": 15,
   "metadata": {},
   "outputs": [
    {
     "name": "stdout",
     "output_type": "stream",
     "text": [
      "train\n",
      "Polarity_category      0\n",
      "tb_Subj                0\n",
      "tb_Pol                 0\n",
      "text_vader_compound    0\n",
      "LDA_Dominant_Topic     0\n",
      "label                  0\n",
      "K_means                0\n",
      "text                   0\n",
      "title                  0\n",
      "id                     0\n",
      "dtype: int64\n",
      "=============\n",
      "test\n",
      "Polarity_category      0\n",
      "tb_Subj                0\n",
      "tb_Pol                 0\n",
      "text_vader_pos         0\n",
      "text_vader_neu         0\n",
      "text_vader_neg         0\n",
      "text_vader_compound    0\n",
      "LDA_Dominant_Topic     0\n",
      "K_means                0\n",
      "text                   0\n",
      "title                  0\n",
      "id                     0\n",
      "dtype: int64\n"
     ]
    }
   ],
   "source": [
    "print('train')\n",
    "print(train.isna().sum().sort_values(ascending = False))\n",
    "print(\"=============\")\n",
    "print('test')\n",
    "print(test.isna().sum().sort_values(ascending = False))"
   ]
  },
  {
   "cell_type": "code",
   "execution_count": 16,
   "metadata": {},
   "outputs": [],
   "source": [
    "# make a copy of the dataframe in case \n",
    "train_original = copy.deepcopy(train)"
   ]
  },
  {
   "cell_type": "code",
   "execution_count": 17,
   "metadata": {},
   "outputs": [
    {
     "data": {
      "text/plain": [
       "1    10413\n",
       "0    10387\n",
       "Name: label, dtype: int64"
      ]
     },
     "execution_count": 17,
     "metadata": {},
     "output_type": "execute_result"
    }
   ],
   "source": [
    "label_counts = train[\"label\"].value_counts()\n",
    "\n",
    "#see distribution of 1 and 0 labels \n",
    "label_counts"
   ]
  },
  {
   "cell_type": "code",
   "execution_count": 18,
   "metadata": {},
   "outputs": [
    {
     "data": {
      "image/png": "[encoded data removed]",
      "text/plain": [
       "<Figure size 432x288 with 1 Axes>"
      ]
     },
     "metadata": {},
     "output_type": "display_data"
    }
   ],
   "source": [
    "bar = plt.bar(label_counts.index.astype('str'), label_counts)\n",
    "plt.ylabel('Counts')\n",
    "plt.title('No of Fake and Real Data')\n",
    "\n",
    "\n",
    "plt.show()"
   ]
  },
  {
   "cell_type": "code",
   "execution_count": 19,
   "metadata": {},
   "outputs": [
    {
     "data": {
      "text/plain": [
       "Polarity_category      0\n",
       "tb_Subj                0\n",
       "tb_Pol                 0\n",
       "text_vader_compound    0\n",
       "LDA_Dominant_Topic     0\n",
       "label                  0\n",
       "K_means                0\n",
       "text                   0\n",
       "title                  0\n",
       "id                     0\n",
       "dtype: int64"
      ]
     },
     "execution_count": 19,
     "metadata": {},
     "output_type": "execute_result"
    }
   ],
   "source": [
    "train.isna().sum().sort_values(ascending = False)"
   ]
  },
  {
   "cell_type": "markdown",
   "metadata": {},
   "source": [
    "# Text pre processing "
   ]
  },
  {
   "cell_type": "code",
   "execution_count": 20,
   "metadata": {},
   "outputs": [],
   "source": [
    "# basic pre-processing\n",
    "from nltk.corpus import stopwords\n",
    "from nltk.tokenize import word_tokenize\n",
    "from nltk.stem import PorterStemmer\n",
    "import re\n",
    "\n",
    "from wordcloud import WordCloud"
   ]
  },
  {
   "cell_type": "code",
   "execution_count": 21,
   "metadata": {},
   "outputs": [
    {
     "data": {
      "text/html": [
       "<div>\n",
       "<style scoped>\n",
       "    .dataframe tbody tr th:only-of-type {\n",
       "        vertical-align: middle;\n",
       "    }\n",
       "\n",
       "    .dataframe tbody tr th {\n",
       "        vertical-align: top;\n",
       "    }\n",
       "\n",
       "    .dataframe thead th {\n",
       "        text-align: right;\n",
       "    }\n",
       "</style>\n",
       "<table border=\"1\" class=\"dataframe\">\n",
       "  <thead>\n",
       "    <tr style=\"text-align: right;\">\n",
       "      <th></th>\n",
       "      <th>id</th>\n",
       "      <th>title</th>\n",
       "      <th>text</th>\n",
       "      <th>K_means</th>\n",
       "      <th>label</th>\n",
       "      <th>LDA_Dominant_Topic</th>\n",
       "      <th>text_vader_compound</th>\n",
       "      <th>tb_Pol</th>\n",
       "      <th>tb_Subj</th>\n",
       "      <th>Polarity_category</th>\n",
       "    </tr>\n",
       "  </thead>\n",
       "  <tbody>\n",
       "  </tbody>\n",
       "</table>\n",
       "</div>"
      ],
      "text/plain": [
       "Empty DataFrame\n",
       "Columns: [id, title, text, K_means, label, LDA_Dominant_Topic, text_vader_compound, tb_Pol, tb_Subj, Polarity_category]\n",
       "Index: []"
      ]
     },
     "execution_count": 21,
     "metadata": {},
     "output_type": "execute_result"
    }
   ],
   "source": [
    "def nans(train): \n",
    "    return train[train.isnull().any(axis=1)]\n",
    "nans(train)"
   ]
  },
  {
   "cell_type": "code",
   "execution_count": 22,
   "metadata": {},
   "outputs": [
    {
     "data": {
      "text/html": [
       "<div>\n",
       "<style scoped>\n",
       "    .dataframe tbody tr th:only-of-type {\n",
       "        vertical-align: middle;\n",
       "    }\n",
       "\n",
       "    .dataframe tbody tr th {\n",
       "        vertical-align: top;\n",
       "    }\n",
       "\n",
       "    .dataframe thead th {\n",
       "        text-align: right;\n",
       "    }\n",
       "</style>\n",
       "<table border=\"1\" class=\"dataframe\">\n",
       "  <thead>\n",
       "    <tr style=\"text-align: right;\">\n",
       "      <th></th>\n",
       "      <th>id</th>\n",
       "      <th>title</th>\n",
       "      <th>text</th>\n",
       "      <th>K_means</th>\n",
       "      <th>LDA_Dominant_Topic</th>\n",
       "      <th>text_vader_compound</th>\n",
       "      <th>text_vader_neg</th>\n",
       "      <th>text_vader_neu</th>\n",
       "      <th>text_vader_pos</th>\n",
       "      <th>tb_Pol</th>\n",
       "      <th>tb_Subj</th>\n",
       "      <th>Polarity_category</th>\n",
       "    </tr>\n",
       "  </thead>\n",
       "  <tbody>\n",
       "  </tbody>\n",
       "</table>\n",
       "</div>"
      ],
      "text/plain": [
       "Empty DataFrame\n",
       "Columns: [id, title, text, K_means, LDA_Dominant_Topic, text_vader_compound, text_vader_neg, text_vader_neu, text_vader_pos, tb_Pol, tb_Subj, Polarity_category]\n",
       "Index: []"
      ]
     },
     "execution_count": 22,
     "metadata": {},
     "output_type": "execute_result"
    }
   ],
   "source": [
    "def nans(test): \n",
    "    return test[test.isnull().any(axis=1)]\n",
    "nans(test)"
   ]
  },
  {
   "cell_type": "code",
   "execution_count": 23,
   "metadata": {},
   "outputs": [],
   "source": [
    "# train = train.dropna(subset=['title', 'text'])\n",
    "# test = test.dropna(subset=['title', 'text'])\n",
    "\n",
    "test=test.fillna(' ')\n",
    "train=train.fillna(' ')"
   ]
  },
  {
   "cell_type": "code",
   "execution_count": 24,
   "metadata": {},
   "outputs": [],
   "source": [
    "\n",
    "#b4 pre processing "
   ]
  },
  {
   "cell_type": "code",
   "execution_count": 25,
   "metadata": {},
   "outputs": [],
   "source": [
    "# basic pre-processing\n",
    "from nltk.corpus import stopwords\n",
    "from nltk.tokenize import word_tokenize\n",
    "from nltk.stem import WordNetLemmatizer\n",
    "import re\n",
    "\n",
    "stop_words = set(stopwords.words('english'))\n",
    "stemmer = PorterStemmer()\n",
    "\n",
    "\n",
    "#remove stop words \n",
    "#lemmetization instead of stemmer \n",
    "\n",
    "def preprocess(review):\n",
    "    review = \" \".join([stemmer.stem(w.lower()) for w in word_tokenize(re.sub('[^a-zA-Z]+', ' ', review.replace(\"<br />\", \"\"))) if not w in stop_words])\n",
    "    return review\n",
    "\n",
    "\n",
    "#cleaning all text from both test and train set \n",
    "train['text_clean'] = train.apply(lambda x: preprocess(x['text']), axis=1)\n",
    "test['text_clean'] = test.apply(lambda x: preprocess(x['text']), axis=1) "
   ]
  },
  {
   "cell_type": "code",
   "execution_count": 26,
   "metadata": {},
   "outputs": [
    {
     "data": {
      "text/html": [
       "<div>\n",
       "<style scoped>\n",
       "    .dataframe tbody tr th:only-of-type {\n",
       "        vertical-align: middle;\n",
       "    }\n",
       "\n",
       "    .dataframe tbody tr th {\n",
       "        vertical-align: top;\n",
       "    }\n",
       "\n",
       "    .dataframe thead th {\n",
       "        text-align: right;\n",
       "    }\n",
       "</style>\n",
       "<table border=\"1\" class=\"dataframe\">\n",
       "  <thead>\n",
       "    <tr style=\"text-align: right;\">\n",
       "      <th></th>\n",
       "      <th>id</th>\n",
       "      <th>title</th>\n",
       "      <th>text</th>\n",
       "      <th>K_means</th>\n",
       "      <th>LDA_Dominant_Topic</th>\n",
       "      <th>text_vader_compound</th>\n",
       "      <th>text_vader_neg</th>\n",
       "      <th>text_vader_neu</th>\n",
       "      <th>text_vader_pos</th>\n",
       "      <th>tb_Pol</th>\n",
       "      <th>tb_Subj</th>\n",
       "      <th>Polarity_category</th>\n",
       "      <th>text_clean</th>\n",
       "    </tr>\n",
       "  </thead>\n",
       "  <tbody>\n",
       "    <tr>\n",
       "      <th>0</th>\n",
       "      <td>20800</td>\n",
       "      <td>Specter of Trump Loosens Tongues, if Not Purse...</td>\n",
       "      <td>PALO ALTO, Calif.  —   After years of scorning...</td>\n",
       "      <td>0</td>\n",
       "      <td>1.0</td>\n",
       "      <td>0.9957</td>\n",
       "      <td>0.028</td>\n",
       "      <td>0.898</td>\n",
       "      <td>0.074</td>\n",
       "      <td>0.071113</td>\n",
       "      <td>0.411889</td>\n",
       "      <td>2</td>\n",
       "      <td>palo alto calif after year scorn polit process...</td>\n",
       "    </tr>\n",
       "    <tr>\n",
       "      <th>1</th>\n",
       "      <td>20801</td>\n",
       "      <td>Russian warships ready to strike terrorists ne...</td>\n",
       "      <td>Russian warships ready to strike terrorists ne...</td>\n",
       "      <td>1</td>\n",
       "      <td>4.0</td>\n",
       "      <td>-0.9670</td>\n",
       "      <td>0.171</td>\n",
       "      <td>0.729</td>\n",
       "      <td>0.100</td>\n",
       "      <td>0.076509</td>\n",
       "      <td>0.314263</td>\n",
       "      <td>2</td>\n",
       "      <td>russian warship readi strike terrorist near al...</td>\n",
       "    </tr>\n",
       "    <tr>\n",
       "      <th>2</th>\n",
       "      <td>20802</td>\n",
       "      <td>#NoDAPL: Native American Leaders Vow to Stay A...</td>\n",
       "      <td>Videos #NoDAPL: Native American Leaders Vow to...</td>\n",
       "      <td>1</td>\n",
       "      <td>1.0</td>\n",
       "      <td>-0.9926</td>\n",
       "      <td>0.113</td>\n",
       "      <td>0.839</td>\n",
       "      <td>0.047</td>\n",
       "      <td>-0.012060</td>\n",
       "      <td>0.343737</td>\n",
       "      <td>0</td>\n",
       "      <td>video nodapl nativ american leader vow stay al...</td>\n",
       "    </tr>\n",
       "    <tr>\n",
       "      <th>3</th>\n",
       "      <td>20803</td>\n",
       "      <td>Tim Tebow Will Attempt Another Comeback, This ...</td>\n",
       "      <td>If at first you don’t succeed, try a different...</td>\n",
       "      <td>0</td>\n",
       "      <td>1.0</td>\n",
       "      <td>0.9981</td>\n",
       "      <td>0.023</td>\n",
       "      <td>0.839</td>\n",
       "      <td>0.138</td>\n",
       "      <td>0.154540</td>\n",
       "      <td>0.427795</td>\n",
       "      <td>2</td>\n",
       "      <td>if first succeed tri differ sport tim tebow he...</td>\n",
       "    </tr>\n",
       "    <tr>\n",
       "      <th>4</th>\n",
       "      <td>20804</td>\n",
       "      <td>Keiser Report: Meme Wars (E995)</td>\n",
       "      <td>42 mins ago 1 Views 0 Comments 0 Likes 'For th...</td>\n",
       "      <td>1</td>\n",
       "      <td>2.0</td>\n",
       "      <td>0.7650</td>\n",
       "      <td>0.012</td>\n",
       "      <td>0.908</td>\n",
       "      <td>0.080</td>\n",
       "      <td>0.111806</td>\n",
       "      <td>0.335417</td>\n",
       "      <td>2</td>\n",
       "      <td>min ago view comment like for first time histo...</td>\n",
       "    </tr>\n",
       "  </tbody>\n",
       "</table>\n",
       "</div>"
      ],
      "text/plain": [
       "      id                                              title  \\\n",
       "0  20800  Specter of Trump Loosens Tongues, if Not Purse...   \n",
       "1  20801  Russian warships ready to strike terrorists ne...   \n",
       "2  20802  #NoDAPL: Native American Leaders Vow to Stay A...   \n",
       "3  20803  Tim Tebow Will Attempt Another Comeback, This ...   \n",
       "4  20804                    Keiser Report: Meme Wars (E995)   \n",
       "\n",
       "                                                text  K_means  \\\n",
       "0  PALO ALTO, Calif.  —   After years of scorning...        0   \n",
       "1  Russian warships ready to strike terrorists ne...        1   \n",
       "2  Videos #NoDAPL: Native American Leaders Vow to...        1   \n",
       "3  If at first you don’t succeed, try a different...        0   \n",
       "4  42 mins ago 1 Views 0 Comments 0 Likes 'For th...        1   \n",
       "\n",
       "   LDA_Dominant_Topic  text_vader_compound  text_vader_neg  text_vader_neu  \\\n",
       "0                 1.0               0.9957           0.028           0.898   \n",
       "1                 4.0              -0.9670           0.171           0.729   \n",
       "2                 1.0              -0.9926           0.113           0.839   \n",
       "3                 1.0               0.9981           0.023           0.839   \n",
       "4                 2.0               0.7650           0.012           0.908   \n",
       "\n",
       "   text_vader_pos    tb_Pol   tb_Subj  Polarity_category  \\\n",
       "0           0.074  0.071113  0.411889                  2   \n",
       "1           0.100  0.076509  0.314263                  2   \n",
       "2           0.047 -0.012060  0.343737                  0   \n",
       "3           0.138  0.154540  0.427795                  2   \n",
       "4           0.080  0.111806  0.335417                  2   \n",
       "\n",
       "                                          text_clean  \n",
       "0  palo alto calif after year scorn polit process...  \n",
       "1  russian warship readi strike terrorist near al...  \n",
       "2  video nodapl nativ american leader vow stay al...  \n",
       "3  if first succeed tri differ sport tim tebow he...  \n",
       "4  min ago view comment like for first time histo...  "
      ]
     },
     "execution_count": 26,
     "metadata": {},
     "output_type": "execute_result"
    }
   ],
   "source": [
    "test.head()"
   ]
  },
  {
   "cell_type": "code",
   "execution_count": 27,
   "metadata": {},
   "outputs": [
    {
     "data": {
      "text/html": [
       "<div>\n",
       "<style scoped>\n",
       "    .dataframe tbody tr th:only-of-type {\n",
       "        vertical-align: middle;\n",
       "    }\n",
       "\n",
       "    .dataframe tbody tr th {\n",
       "        vertical-align: top;\n",
       "    }\n",
       "\n",
       "    .dataframe thead th {\n",
       "        text-align: right;\n",
       "    }\n",
       "</style>\n",
       "<table border=\"1\" class=\"dataframe\">\n",
       "  <thead>\n",
       "    <tr style=\"text-align: right;\">\n",
       "      <th></th>\n",
       "      <th>0</th>\n",
       "      <th>1</th>\n",
       "      <th>2</th>\n",
       "      <th>3</th>\n",
       "      <th>4</th>\n",
       "    </tr>\n",
       "  </thead>\n",
       "  <tbody>\n",
       "    <tr>\n",
       "      <th>0</th>\n",
       "      <td>0.0</td>\n",
       "      <td>0.0</td>\n",
       "      <td>1.0</td>\n",
       "      <td>0.0</td>\n",
       "      <td>0.0</td>\n",
       "    </tr>\n",
       "    <tr>\n",
       "      <th>1</th>\n",
       "      <td>0.0</td>\n",
       "      <td>1.0</td>\n",
       "      <td>0.0</td>\n",
       "      <td>0.0</td>\n",
       "      <td>0.0</td>\n",
       "    </tr>\n",
       "  </tbody>\n",
       "</table>\n",
       "</div>"
      ],
      "text/plain": [
       "     0    1    2    3    4\n",
       "0  0.0  0.0  1.0  0.0  0.0\n",
       "1  0.0  1.0  0.0  0.0  0.0"
      ]
     },
     "execution_count": 27,
     "metadata": {},
     "output_type": "execute_result"
    }
   ],
   "source": [
    "# one hot encoding to for k means data - train \n",
    "from sklearn.preprocessing import OneHotEncoder\n",
    "\n",
    "# creating instance of one-hot-encoder\n",
    "enc = OneHotEncoder(handle_unknown='ignore')\n",
    "# passing bridge-types-cat column (label encoded values of bridge_types)\n",
    "kmeans_onehot_train = pd.DataFrame(enc.fit_transform(train[['K_means']]).toarray())\n",
    "# merge with main df bridge_df on key values\n",
    "# test = train.join(enc_df)\n",
    "# test.head(5)\n",
    "kmeans_onehot_train.head(2)"
   ]
  },
  {
   "cell_type": "code",
   "execution_count": 28,
   "metadata": {},
   "outputs": [
    {
     "data": {
      "text/html": [
       "<div>\n",
       "<style scoped>\n",
       "    .dataframe tbody tr th:only-of-type {\n",
       "        vertical-align: middle;\n",
       "    }\n",
       "\n",
       "    .dataframe tbody tr th {\n",
       "        vertical-align: top;\n",
       "    }\n",
       "\n",
       "    .dataframe thead th {\n",
       "        text-align: right;\n",
       "    }\n",
       "</style>\n",
       "<table border=\"1\" class=\"dataframe\">\n",
       "  <thead>\n",
       "    <tr style=\"text-align: right;\">\n",
       "      <th></th>\n",
       "      <th>0</th>\n",
       "      <th>1</th>\n",
       "      <th>2</th>\n",
       "      <th>3</th>\n",
       "      <th>4</th>\n",
       "    </tr>\n",
       "  </thead>\n",
       "  <tbody>\n",
       "    <tr>\n",
       "      <th>0</th>\n",
       "      <td>0.0</td>\n",
       "      <td>0.0</td>\n",
       "      <td>1.0</td>\n",
       "      <td>0.0</td>\n",
       "      <td>0.0</td>\n",
       "    </tr>\n",
       "    <tr>\n",
       "      <th>1</th>\n",
       "      <td>0.0</td>\n",
       "      <td>0.0</td>\n",
       "      <td>1.0</td>\n",
       "      <td>0.0</td>\n",
       "      <td>0.0</td>\n",
       "    </tr>\n",
       "  </tbody>\n",
       "</table>\n",
       "</div>"
      ],
      "text/plain": [
       "     0    1    2    3    4\n",
       "0  0.0  0.0  1.0  0.0  0.0\n",
       "1  0.0  0.0  1.0  0.0  0.0"
      ]
     },
     "execution_count": 28,
     "metadata": {},
     "output_type": "execute_result"
    }
   ],
   "source": [
    "# one hot encoding to for lda data - train \n",
    "\n",
    "from sklearn.preprocessing import OneHotEncoder\n",
    "\n",
    "# creating instance of one-hot-encoder\n",
    "enc = OneHotEncoder(handle_unknown='ignore')\n",
    "# passing bridge-types-cat column (label encoded values of bridge_types)\n",
    "lda_enc_train = pd.DataFrame(enc.fit_transform(train[['LDA_Dominant_Topic']]).toarray())\n",
    "# merge with main df bridge_df on key values\n",
    "# test = train.join(enc_df)\n",
    "# test.head(5)\n",
    "lda_enc_train.head(2)"
   ]
  },
  {
   "cell_type": "code",
   "execution_count": 29,
   "metadata": {},
   "outputs": [
    {
     "data": {
      "text/html": [
       "<div>\n",
       "<style scoped>\n",
       "    .dataframe tbody tr th:only-of-type {\n",
       "        vertical-align: middle;\n",
       "    }\n",
       "\n",
       "    .dataframe tbody tr th {\n",
       "        vertical-align: top;\n",
       "    }\n",
       "\n",
       "    .dataframe thead th {\n",
       "        text-align: right;\n",
       "    }\n",
       "</style>\n",
       "<table border=\"1\" class=\"dataframe\">\n",
       "  <thead>\n",
       "    <tr style=\"text-align: right;\">\n",
       "      <th></th>\n",
       "      <th>0</th>\n",
       "      <th>1</th>\n",
       "      <th>2</th>\n",
       "      <th>3</th>\n",
       "      <th>4</th>\n",
       "    </tr>\n",
       "  </thead>\n",
       "  <tbody>\n",
       "    <tr>\n",
       "      <th>0</th>\n",
       "      <td>1.0</td>\n",
       "      <td>0.0</td>\n",
       "      <td>0.0</td>\n",
       "      <td>0.0</td>\n",
       "      <td>0.0</td>\n",
       "    </tr>\n",
       "    <tr>\n",
       "      <th>1</th>\n",
       "      <td>0.0</td>\n",
       "      <td>1.0</td>\n",
       "      <td>0.0</td>\n",
       "      <td>0.0</td>\n",
       "      <td>0.0</td>\n",
       "    </tr>\n",
       "  </tbody>\n",
       "</table>\n",
       "</div>"
      ],
      "text/plain": [
       "     0    1    2    3    4\n",
       "0  1.0  0.0  0.0  0.0  0.0\n",
       "1  0.0  1.0  0.0  0.0  0.0"
      ]
     },
     "execution_count": 29,
     "metadata": {},
     "output_type": "execute_result"
    }
   ],
   "source": [
    "# one hot encoding to for k means data - test \n",
    "\n",
    "from sklearn.preprocessing import OneHotEncoder\n",
    "\n",
    "# creating instance of one-hot-encoder\n",
    "enc = OneHotEncoder(handle_unknown='ignore')\n",
    "# passing bridge-types-cat column (label encoded values of bridge_types)\n",
    "kmeans_onehot_test = pd.DataFrame(enc.fit_transform(test[['K_means']]).toarray())\n",
    "# merge with main df bridge_df on key values\n",
    "# test = train.join(enc_df)\n",
    "# test.head(5)\n",
    "kmeans_onehot_test.head(2)"
   ]
  },
  {
   "cell_type": "code",
   "execution_count": 30,
   "metadata": {},
   "outputs": [
    {
     "data": {
      "text/html": [
       "<div>\n",
       "<style scoped>\n",
       "    .dataframe tbody tr th:only-of-type {\n",
       "        vertical-align: middle;\n",
       "    }\n",
       "\n",
       "    .dataframe tbody tr th {\n",
       "        vertical-align: top;\n",
       "    }\n",
       "\n",
       "    .dataframe thead th {\n",
       "        text-align: right;\n",
       "    }\n",
       "</style>\n",
       "<table border=\"1\" class=\"dataframe\">\n",
       "  <thead>\n",
       "    <tr style=\"text-align: right;\">\n",
       "      <th></th>\n",
       "      <th>0</th>\n",
       "      <th>1</th>\n",
       "      <th>2</th>\n",
       "      <th>3</th>\n",
       "      <th>4</th>\n",
       "    </tr>\n",
       "  </thead>\n",
       "  <tbody>\n",
       "    <tr>\n",
       "      <th>0</th>\n",
       "      <td>0.0</td>\n",
       "      <td>1.0</td>\n",
       "      <td>0.0</td>\n",
       "      <td>0.0</td>\n",
       "      <td>0.0</td>\n",
       "    </tr>\n",
       "    <tr>\n",
       "      <th>1</th>\n",
       "      <td>0.0</td>\n",
       "      <td>0.0</td>\n",
       "      <td>0.0</td>\n",
       "      <td>0.0</td>\n",
       "      <td>1.0</td>\n",
       "    </tr>\n",
       "    <tr>\n",
       "      <th>2</th>\n",
       "      <td>0.0</td>\n",
       "      <td>1.0</td>\n",
       "      <td>0.0</td>\n",
       "      <td>0.0</td>\n",
       "      <td>0.0</td>\n",
       "    </tr>\n",
       "    <tr>\n",
       "      <th>3</th>\n",
       "      <td>0.0</td>\n",
       "      <td>1.0</td>\n",
       "      <td>0.0</td>\n",
       "      <td>0.0</td>\n",
       "      <td>0.0</td>\n",
       "    </tr>\n",
       "    <tr>\n",
       "      <th>4</th>\n",
       "      <td>0.0</td>\n",
       "      <td>0.0</td>\n",
       "      <td>1.0</td>\n",
       "      <td>0.0</td>\n",
       "      <td>0.0</td>\n",
       "    </tr>\n",
       "  </tbody>\n",
       "</table>\n",
       "</div>"
      ],
      "text/plain": [
       "     0    1    2    3    4\n",
       "0  0.0  1.0  0.0  0.0  0.0\n",
       "1  0.0  0.0  0.0  0.0  1.0\n",
       "2  0.0  1.0  0.0  0.0  0.0\n",
       "3  0.0  1.0  0.0  0.0  0.0\n",
       "4  0.0  0.0  1.0  0.0  0.0"
      ]
     },
     "execution_count": 30,
     "metadata": {},
     "output_type": "execute_result"
    }
   ],
   "source": [
    "# one hot encoding to for lda data - test \n",
    "\n",
    "from sklearn.preprocessing import OneHotEncoder\n",
    "\n",
    "# creating instance of one-hot-encoder\n",
    "enc = OneHotEncoder(handle_unknown='ignore')\n",
    "# passing bridge-types-cat column (label encoded values of bridge_types)\n",
    "lda_enc_test = pd.DataFrame(enc.fit_transform(test[['LDA_Dominant_Topic']]).toarray())\n",
    "# merge with main df bridge_df on key values\n",
    "# test = train.join(enc_df)\n",
    "# test.head(5)\n",
    "lda_enc_test.head()"
   ]
  },
  {
   "cell_type": "markdown",
   "metadata": {},
   "source": [
    "# Logistic regression - Count vectorizer "
   ]
  },
  {
   "cell_type": "markdown",
   "metadata": {},
   "source": [
    "# Textblob K means "
   ]
  },
  {
   "cell_type": "code",
   "execution_count": 31,
   "metadata": {},
   "outputs": [],
   "source": [
    "vectorizer = TfidfVectorizer()\n",
    "train_counts = vectorizer.fit_transform(train['text_clean'])\n",
    "test_counts = vectorizer.transform(test['text_clean'])"
   ]
  },
  {
   "cell_type": "code",
   "execution_count": 32,
   "metadata": {},
   "outputs": [
    {
     "data": {
      "text/plain": [
       "(<20800x110477 sparse matrix of type '<class 'numpy.float64'>'\n",
       " \twith 5316572 stored elements in Compressed Sparse Row format>,\n",
       " <5200x110477 sparse matrix of type '<class 'numpy.float64'>'\n",
       " \twith 1336821 stored elements in Compressed Sparse Row format>)"
      ]
     },
     "execution_count": 32,
     "metadata": {},
     "output_type": "execute_result"
    }
   ],
   "source": [
    "(train_counts, test_counts)"
   ]
  },
  {
   "cell_type": "code",
   "execution_count": 33,
   "metadata": {},
   "outputs": [
    {
     "data": {
      "text/plain": [
       "(20800, 110477)"
      ]
     },
     "execution_count": 33,
     "metadata": {},
     "output_type": "execute_result"
    }
   ],
   "source": [
    "train_counts.shape"
   ]
  },
  {
   "cell_type": "code",
   "execution_count": 34,
   "metadata": {},
   "outputs": [
    {
     "data": {
      "text/plain": [
       "(5200, 110477)"
      ]
     },
     "execution_count": 34,
     "metadata": {},
     "output_type": "execute_result"
    }
   ],
   "source": [
    "test_counts.shape"
   ]
  },
  {
   "cell_type": "code",
   "execution_count": 35,
   "metadata": {},
   "outputs": [],
   "source": [
    "#Textblob K means \n",
    "\n",
    "train_counts = hstack((train_counts,np.array(kmeans_onehot_train[0])[:,None])).tocsr() \n",
    "train_counts = hstack((train_counts,np.array(kmeans_onehot_train[1])[:,None])).tocsr() \n",
    "train_counts = hstack((train_counts,np.array(kmeans_onehot_train[2])[:,None])).tocsr() \n",
    "train_counts = hstack((train_counts,np.array(kmeans_onehot_train[3])[:,None])).tocsr() \n",
    "train_counts = hstack((train_counts,np.array(kmeans_onehot_train[4])[:,None])).tocsr() \n",
    "train_counts = hstack((train_counts,np.array(train['Polarity_category'])[:,None])).tocsr() \n",
    "\n",
    "test_counts = hstack((test_counts,np.array(kmeans_onehot_test[0])[:,None])).tocsr() \n",
    "test_counts = hstack((test_counts,np.array(kmeans_onehot_test[1])[:,None])).tocsr() \n",
    "test_counts = hstack((test_counts,np.array(kmeans_onehot_test[2])[:,None])).tocsr() \n",
    "test_counts = hstack((test_counts,np.array(kmeans_onehot_test[3])[:,None])).tocsr() \n",
    "test_counts = hstack((test_counts,np.array(kmeans_onehot_test[4])[:,None])).tocsr() \n",
    "test_counts = hstack((test_counts,np.array(test['Polarity_category'])[:,None])).tocsr() "
   ]
  },
  {
   "cell_type": "code",
   "execution_count": 36,
   "metadata": {},
   "outputs": [
    {
     "data": {
      "text/plain": [
       "(<20800x110483 sparse matrix of type '<class 'numpy.float64'>'\n",
       " \twith 5354034 stored elements in Compressed Sparse Row format>,\n",
       " <5200x110483 sparse matrix of type '<class 'numpy.float64'>'\n",
       " \twith 1346254 stored elements in Compressed Sparse Row format>)"
      ]
     },
     "execution_count": 36,
     "metadata": {},
     "output_type": "execute_result"
    }
   ],
   "source": [
    "(train_counts, test_counts)"
   ]
  },
  {
   "cell_type": "code",
   "execution_count": 37,
   "metadata": {},
   "outputs": [
    {
     "name": "stdout",
     "output_type": "stream",
     "text": [
      "(20800,)\n"
     ]
    }
   ],
   "source": [
    "y = train['label']\n",
    "y.sample(5)\n",
    "print(y.shape)"
   ]
  },
  {
   "cell_type": "code",
   "execution_count": 38,
   "metadata": {},
   "outputs": [],
   "source": [
    "# split dataset to training and test dataset\n",
    "\n",
    "from sklearn.model_selection import train_test_split\n",
    "\n",
    "# X_train, X_test, y_train, y_test\n",
    "data_train, data_val, y_train, y_val = train_test_split(train_counts, y, \n",
    "                                                          test_size = 0.25, random_state = 2020, stratify = train['label'])"
   ]
  },
  {
   "cell_type": "code",
   "execution_count": 39,
   "metadata": {},
   "outputs": [
    {
     "name": "stdout",
     "output_type": "stream",
     "text": [
      "Logistic Regression Vader LDA\n",
      "Accuracy:\n",
      "0.9482692307692308\n",
      "Confusion Matrix:\n",
      "[[2381  216]\n",
      " [  53 2550]]\n",
      "Time taken:\n",
      "0:00:09.413423\n"
     ]
    }
   ],
   "source": [
    "from sklearn.linear_model import LogisticRegression\n",
    "from sklearn.metrics import confusion_matrix\n",
    "from datetime import datetime\n",
    "\n",
    "start=datetime.now()\n",
    "lr = LogisticRegression(max_iter = 6000)\n",
    "\n",
    "# train model\n",
    "\n",
    "lr.fit(data_train, y_train)\n",
    "\n",
    "lr_pred = lr.predict(data_val)\n",
    "print('Logistic Regression Vader LDA')\n",
    "print('Accuracy:')\n",
    "print(lr.score(data_val, y_val))\n",
    "print('Confusion Matrix:')\n",
    "print(confusion_matrix(y_val, lr_pred))\n",
    "print('Time taken:')\n",
    "print(datetime.now()-start)"
   ]
  },
  {
   "cell_type": "code",
   "execution_count": 40,
   "metadata": {},
   "outputs": [
    {
     "name": "stdout",
     "output_type": "stream",
     "text": [
      "TN: 2381\n",
      "FN: 53\n",
      "FP: 216\n",
      "TP: 2550\n"
     ]
    },
    {
     "data": {
      "image/png": "[encoded data removed]",
      "text/plain": [
       "<Figure size 432x288 with 2 Axes>"
      ]
     },
     "metadata": {},
     "output_type": "display_data"
    }
   ],
   "source": [
    "import seaborn as sns\n",
    "\n",
    "\n",
    "tn, fp, fn, tp = confusion_matrix(y_val, lr_pred).ravel()\n",
    "cm = [[tp,fn],[fp,tn]]\n",
    "\n",
    "print(\"TN:\", tn)\n",
    "print(\"FN:\", fn)\n",
    "print(\"FP:\", fp)\n",
    "print(\"TP:\", tp)\n",
    "\n",
    "ax= plt.subplot()\n",
    "sns.heatmap(cm, annot=True, fmt = \"d\", cmap=\"Spectral\"); #annot=True to annotate cells\n",
    "\n",
    "# labels, title and ticks\n",
    "ax.set_xlabel('ACTUAL LABELS');ax.set_ylabel('PREDICTED LABELS'); \n",
    "ax.set_title('Logistic Regression Textblob Kmeans Confusion Matrix'); \n",
    "ax.xaxis.set_ticklabels(['Real', 'Fake']); ax.yaxis.set_ticklabels(['Real', 'Fake']);\n"
   ]
  },
  {
   "cell_type": "code",
   "execution_count": 41,
   "metadata": {},
   "outputs": [
    {
     "name": "stdout",
     "output_type": "stream",
     "text": [
      "Cross-Validation Accuracy Scores 94.9423076923077\n"
     ]
    }
   ],
   "source": [
    "from sklearn.model_selection import cross_val_score\n",
    "\n",
    "scores = cross_val_score(lr, data_train, y_train, cv=10)\n",
    "print('Cross-Validation Accuracy Scores', scores.mean()*100.0)"
   ]
  },
  {
   "cell_type": "code",
   "execution_count": 42,
   "metadata": {},
   "outputs": [
    {
     "data": {
      "text/html": [
       "<div>\n",
       "<style scoped>\n",
       "    .dataframe tbody tr th:only-of-type {\n",
       "        vertical-align: middle;\n",
       "    }\n",
       "\n",
       "    .dataframe tbody tr th {\n",
       "        vertical-align: top;\n",
       "    }\n",
       "\n",
       "    .dataframe thead th {\n",
       "        text-align: right;\n",
       "    }\n",
       "</style>\n",
       "<table border=\"1\" class=\"dataframe\">\n",
       "  <thead>\n",
       "    <tr style=\"text-align: right;\">\n",
       "      <th></th>\n",
       "      <th>id</th>\n",
       "    </tr>\n",
       "    <tr>\n",
       "      <th>label</th>\n",
       "      <th></th>\n",
       "    </tr>\n",
       "  </thead>\n",
       "  <tbody>\n",
       "    <tr>\n",
       "      <th>0</th>\n",
       "      <td>2727</td>\n",
       "    </tr>\n",
       "    <tr>\n",
       "      <th>1</th>\n",
       "      <td>2473</td>\n",
       "    </tr>\n",
       "  </tbody>\n",
       "</table>\n",
       "</div>"
      ],
      "text/plain": [
       "         id\n",
       "label      \n",
       "0      2727\n",
       "1      2473"
      ]
     },
     "execution_count": 42,
     "metadata": {},
     "output_type": "execute_result"
    }
   ],
   "source": [
    "predictions_lr = lr.predict(test_counts)\n",
    "\n",
    "pred_lr=pd.DataFrame(predictions_lr,columns=['label'])\n",
    "pred_lr['id']=test['id']\n",
    "pred_lr.groupby('label').count()"
   ]
  },
  {
   "cell_type": "code",
   "execution_count": 43,
   "metadata": {},
   "outputs": [
    {
     "data": {
      "text/plain": [
       "id       0\n",
       "label    0\n",
       "dtype: int64"
      ]
     },
     "execution_count": 43,
     "metadata": {},
     "output_type": "execute_result"
    }
   ],
   "source": [
    "pred_lr.to_csv('log_reg_countvect_textblobKmeans.csv', index=False)\n",
    "log_reg = pd.read_csv('log_reg_countvect_textblobKmeans.csv')\n",
    "log_reg.isna().sum().sort_values(ascending = False)"
   ]
  },
  {
   "cell_type": "markdown",
   "metadata": {},
   "source": [
    "# Textblob LDA "
   ]
  },
  {
   "cell_type": "code",
   "execution_count": 44,
   "metadata": {},
   "outputs": [],
   "source": [
    "vectorizer = TfidfVectorizer()\n",
    "train_counts = vectorizer.fit_transform(train['text_clean'])\n",
    "test_counts = vectorizer.transform(test['text_clean'])"
   ]
  },
  {
   "cell_type": "code",
   "execution_count": 45,
   "metadata": {},
   "outputs": [
    {
     "data": {
      "text/plain": [
       "(<20800x110477 sparse matrix of type '<class 'numpy.float64'>'\n",
       " \twith 5316572 stored elements in Compressed Sparse Row format>,\n",
       " <5200x110477 sparse matrix of type '<class 'numpy.float64'>'\n",
       " \twith 1336821 stored elements in Compressed Sparse Row format>)"
      ]
     },
     "execution_count": 45,
     "metadata": {},
     "output_type": "execute_result"
    }
   ],
   "source": [
    "(train_counts, test_counts)"
   ]
  },
  {
   "cell_type": "code",
   "execution_count": 46,
   "metadata": {},
   "outputs": [
    {
     "data": {
      "text/plain": [
       "(20800, 110477)"
      ]
     },
     "execution_count": 46,
     "metadata": {},
     "output_type": "execute_result"
    }
   ],
   "source": [
    "train_counts.shape"
   ]
  },
  {
   "cell_type": "code",
   "execution_count": 47,
   "metadata": {},
   "outputs": [
    {
     "data": {
      "text/plain": [
       "(5200, 110477)"
      ]
     },
     "execution_count": 47,
     "metadata": {},
     "output_type": "execute_result"
    }
   ],
   "source": [
    "test_counts.shape"
   ]
  },
  {
   "cell_type": "code",
   "execution_count": 48,
   "metadata": {},
   "outputs": [],
   "source": [
    "# ## Textblob LDA \n",
    "\n",
    "train_counts = hstack((train_counts,np.array(lda_enc_train[0])[:,None])).tocsr() \n",
    "train_counts = hstack((train_counts,np.array(lda_enc_train[1])[:,None])).tocsr() \n",
    "train_counts = hstack((train_counts,np.array(lda_enc_train[2])[:,None])).tocsr() \n",
    "train_counts = hstack((train_counts,np.array(lda_enc_train[3])[:,None])).tocsr() \n",
    "train_counts = hstack((train_counts,np.array(lda_enc_train[4])[:,None])).tocsr() \n",
    "train_counts = hstack((train_counts,np.array(train['Polarity_category'])[:,None])).tocsr() \n",
    "\n",
    "test_counts = hstack((test_counts,np.array(lda_enc_test[0])[:,None])).tocsr() \n",
    "test_counts = hstack((test_counts,np.array(lda_enc_test[1])[:,None])).tocsr() \n",
    "test_counts = hstack((test_counts,np.array(lda_enc_test[2])[:,None])).tocsr() \n",
    "test_counts = hstack((test_counts,np.array(lda_enc_test[3])[:,None])).tocsr() \n",
    "test_counts = hstack((test_counts,np.array(lda_enc_test[4])[:,None])).tocsr() \n",
    "test_counts = hstack((test_counts,np.array(test['Polarity_category'])[:,None])).tocsr() "
   ]
  },
  {
   "cell_type": "code",
   "execution_count": 49,
   "metadata": {},
   "outputs": [
    {
     "data": {
      "text/plain": [
       "(<20800x110483 sparse matrix of type '<class 'numpy.float64'>'\n",
       " \twith 5354034 stored elements in Compressed Sparse Row format>,\n",
       " <5200x110483 sparse matrix of type '<class 'numpy.float64'>'\n",
       " \twith 1346254 stored elements in Compressed Sparse Row format>)"
      ]
     },
     "execution_count": 49,
     "metadata": {},
     "output_type": "execute_result"
    }
   ],
   "source": [
    "(train_counts, test_counts)"
   ]
  },
  {
   "cell_type": "code",
   "execution_count": 50,
   "metadata": {},
   "outputs": [
    {
     "name": "stdout",
     "output_type": "stream",
     "text": [
      "(20800,)\n"
     ]
    }
   ],
   "source": [
    "y = train['label']\n",
    "y.sample(5)\n",
    "print(y.shape)"
   ]
  },
  {
   "cell_type": "code",
   "execution_count": 51,
   "metadata": {},
   "outputs": [],
   "source": [
    "# split dataset to training and test dataset\n",
    "\n",
    "from sklearn.model_selection import train_test_split\n",
    "\n",
    "# X_train, X_test, y_train, y_test\n",
    "data_train, data_val, y_train, y_val = train_test_split(train_counts, y, \n",
    "                                                          test_size = 0.25, random_state = 2020, stratify = train['label'])"
   ]
  },
  {
   "cell_type": "code",
   "execution_count": 52,
   "metadata": {},
   "outputs": [
    {
     "name": "stdout",
     "output_type": "stream",
     "text": [
      "Logistic Regression Vader LDA\n",
      "Accuracy:\n",
      "0.9382692307692307\n",
      "Confusion Matrix:\n",
      "[[2414  183]\n",
      " [ 138 2465]]\n",
      "Time taken:\n",
      "0:00:09.606980\n"
     ]
    }
   ],
   "source": [
    "from sklearn.linear_model import LogisticRegression\n",
    "from sklearn.metrics import confusion_matrix\n",
    "from datetime import datetime\n",
    "\n",
    "start=datetime.now()\n",
    "lr = LogisticRegression(max_iter = 6000)\n",
    "\n",
    "# train model\n",
    "\n",
    "lr.fit(data_train, y_train)\n",
    "\n",
    "lr_pred = lr.predict(data_val)\n",
    "print('Logistic Regression Vader LDA')\n",
    "print('Accuracy:')\n",
    "print(lr.score(data_val, y_val))\n",
    "print('Confusion Matrix:')\n",
    "print(confusion_matrix(y_val, lr_pred))\n",
    "print('Time taken:')\n",
    "print(datetime.now()-start)"
   ]
  },
  {
   "cell_type": "code",
   "execution_count": 53,
   "metadata": {},
   "outputs": [
    {
     "name": "stdout",
     "output_type": "stream",
     "text": [
      "TN: 2414\n",
      "FN: 138\n",
      "FP: 183\n",
      "TP: 2465\n"
     ]
    },
    {
     "data": {
      "image/png": "[encoded data removed]",
      "text/plain": [
       "<Figure size 432x288 with 2 Axes>"
      ]
     },
     "metadata": {},
     "output_type": "display_data"
    }
   ],
   "source": [
    "import seaborn as sns\n",
    "\n",
    "\n",
    "tn, fp, fn, tp = confusion_matrix(y_val, lr_pred).ravel()\n",
    "cm = [[tp,fn],[fp,tn]]\n",
    "\n",
    "print(\"TN:\", tn)\n",
    "print(\"FN:\", fn)\n",
    "print(\"FP:\", fp)\n",
    "print(\"TP:\", tp)\n",
    "\n",
    "ax= plt.subplot()\n",
    "sns.heatmap(cm, annot=True, fmt = \"d\", cmap=\"Spectral\"); #annot=True to annotate cells\n",
    "\n",
    "# labels, title and ticks\n",
    "ax.set_xlabel('ACTUAL LABELS');ax.set_ylabel('PREDICTED LABELS'); \n",
    "ax.set_title('Logistic Regression Textblob LDA Confusion Matrix'); \n",
    "ax.xaxis.set_ticklabels(['Real', 'Fake']); ax.yaxis.set_ticklabels(['Real', 'Fake']);\n"
   ]
  },
  {
   "cell_type": "code",
   "execution_count": 54,
   "metadata": {},
   "outputs": [
    {
     "name": "stdout",
     "output_type": "stream",
     "text": [
      "Cross-Validation Accuracy Scores 93.55769230769229\n"
     ]
    }
   ],
   "source": [
    "from sklearn.model_selection import cross_val_score\n",
    "\n",
    "scores = cross_val_score(lr, data_train, y_train, cv=10)\n",
    "print('Cross-Validation Accuracy Scores', scores.mean()*100.0)"
   ]
  },
  {
   "cell_type": "code",
   "execution_count": 55,
   "metadata": {},
   "outputs": [
    {
     "data": {
      "text/html": [
       "<div>\n",
       "<style scoped>\n",
       "    .dataframe tbody tr th:only-of-type {\n",
       "        vertical-align: middle;\n",
       "    }\n",
       "\n",
       "    .dataframe tbody tr th {\n",
       "        vertical-align: top;\n",
       "    }\n",
       "\n",
       "    .dataframe thead th {\n",
       "        text-align: right;\n",
       "    }\n",
       "</style>\n",
       "<table border=\"1\" class=\"dataframe\">\n",
       "  <thead>\n",
       "    <tr style=\"text-align: right;\">\n",
       "      <th></th>\n",
       "      <th>id</th>\n",
       "    </tr>\n",
       "    <tr>\n",
       "      <th>label</th>\n",
       "      <th></th>\n",
       "    </tr>\n",
       "  </thead>\n",
       "  <tbody>\n",
       "    <tr>\n",
       "      <th>0</th>\n",
       "      <td>2330</td>\n",
       "    </tr>\n",
       "    <tr>\n",
       "      <th>1</th>\n",
       "      <td>2870</td>\n",
       "    </tr>\n",
       "  </tbody>\n",
       "</table>\n",
       "</div>"
      ],
      "text/plain": [
       "         id\n",
       "label      \n",
       "0      2330\n",
       "1      2870"
      ]
     },
     "execution_count": 55,
     "metadata": {},
     "output_type": "execute_result"
    }
   ],
   "source": [
    "predictions_lr = lr.predict(test_counts)\n",
    "\n",
    "pred_lr=pd.DataFrame(predictions_lr,columns=['label'])\n",
    "pred_lr['id']=test['id']\n",
    "pred_lr.groupby('label').count()"
   ]
  },
  {
   "cell_type": "code",
   "execution_count": 56,
   "metadata": {},
   "outputs": [
    {
     "data": {
      "text/plain": [
       "id       0\n",
       "label    0\n",
       "dtype: int64"
      ]
     },
     "execution_count": 56,
     "metadata": {},
     "output_type": "execute_result"
    }
   ],
   "source": [
    "pred_lr.to_csv('log_reg_countvect_textbloblda.csv', index=False)\n",
    "log_reg = pd.read_csv('log_reg_countvect_textbloblda.csv')\n",
    "log_reg.isna().sum().sort_values(ascending = False)"
   ]
  },
  {
   "cell_type": "markdown",
   "metadata": {},
   "source": [
    "# VADER K means \n"
   ]
  },
  {
   "cell_type": "code",
   "execution_count": 57,
   "metadata": {},
   "outputs": [],
   "source": [
    "vectorizer = TfidfVectorizer()\n",
    "train_counts = vectorizer.fit_transform(train['text_clean'])\n",
    "test_counts = vectorizer.transform(test['text_clean'])"
   ]
  },
  {
   "cell_type": "code",
   "execution_count": 58,
   "metadata": {},
   "outputs": [
    {
     "data": {
      "text/plain": [
       "(<20800x110477 sparse matrix of type '<class 'numpy.float64'>'\n",
       " \twith 5316572 stored elements in Compressed Sparse Row format>,\n",
       " <5200x110477 sparse matrix of type '<class 'numpy.float64'>'\n",
       " \twith 1336821 stored elements in Compressed Sparse Row format>)"
      ]
     },
     "execution_count": 58,
     "metadata": {},
     "output_type": "execute_result"
    }
   ],
   "source": [
    "(train_counts, test_counts)"
   ]
  },
  {
   "cell_type": "code",
   "execution_count": 59,
   "metadata": {},
   "outputs": [
    {
     "data": {
      "text/plain": [
       "(20800, 110477)"
      ]
     },
     "execution_count": 59,
     "metadata": {},
     "output_type": "execute_result"
    }
   ],
   "source": [
    "train_counts.shape"
   ]
  },
  {
   "cell_type": "code",
   "execution_count": 60,
   "metadata": {},
   "outputs": [
    {
     "data": {
      "text/plain": [
       "(5200, 110477)"
      ]
     },
     "execution_count": 60,
     "metadata": {},
     "output_type": "execute_result"
    }
   ],
   "source": [
    "test_counts.shape"
   ]
  },
  {
   "cell_type": "code",
   "execution_count": 61,
   "metadata": {},
   "outputs": [],
   "source": [
    "# Vader K means \n",
    "train_counts = hstack((train_counts,np.array(kmeans_onehot_train[0])[:,None])).tocsr() \n",
    "train_counts = hstack((train_counts,np.array(kmeans_onehot_train[1])[:,None])).tocsr() \n",
    "train_counts = hstack((train_counts,np.array(kmeans_onehot_train[2])[:,None])).tocsr() \n",
    "train_counts = hstack((train_counts,np.array(kmeans_onehot_train[3])[:,None])).tocsr() \n",
    "train_counts = hstack((train_counts,np.array(kmeans_onehot_train[4])[:,None])).tocsr() \n",
    "train_counts = hstack((train_counts,np.array(train['text_vader_compound'])[:,None])).tocsr() \n",
    "\n",
    "test_counts = hstack((test_counts,np.array(kmeans_onehot_test[0])[:,None])).tocsr() \n",
    "test_counts = hstack((test_counts,np.array(kmeans_onehot_test[1])[:,None])).tocsr() \n",
    "test_counts = hstack((test_counts,np.array(kmeans_onehot_test[2])[:,None])).tocsr() \n",
    "test_counts = hstack((test_counts,np.array(kmeans_onehot_test[3])[:,None])).tocsr() \n",
    "test_counts = hstack((test_counts,np.array(kmeans_onehot_test[4])[:,None])).tocsr() \n",
    "test_counts = hstack((test_counts,np.array(test['text_vader_compound'])[:,None])).tocsr() "
   ]
  },
  {
   "cell_type": "code",
   "execution_count": 62,
   "metadata": {},
   "outputs": [
    {
     "data": {
      "text/plain": [
       "(<20800x110483 sparse matrix of type '<class 'numpy.float64'>'\n",
       " \twith 5357611 stored elements in Compressed Sparse Row format>,\n",
       " <5200x110483 sparse matrix of type '<class 'numpy.float64'>'\n",
       " \twith 1347060 stored elements in Compressed Sparse Row format>)"
      ]
     },
     "execution_count": 62,
     "metadata": {},
     "output_type": "execute_result"
    }
   ],
   "source": [
    "(train_counts, test_counts)"
   ]
  },
  {
   "cell_type": "code",
   "execution_count": 63,
   "metadata": {},
   "outputs": [
    {
     "name": "stdout",
     "output_type": "stream",
     "text": [
      "(20800,)\n"
     ]
    }
   ],
   "source": [
    "y = train['label']\n",
    "y.sample(5)\n",
    "print(y.shape)"
   ]
  },
  {
   "cell_type": "code",
   "execution_count": 64,
   "metadata": {},
   "outputs": [],
   "source": [
    "# split dataset to training and test dataset\n",
    "\n",
    "from sklearn.model_selection import train_test_split\n",
    "\n",
    "# X_train, X_test, y_train, y_test\n",
    "data_train, data_val, y_train, y_val = train_test_split(train_counts, y, \n",
    "                                                          test_size = 0.25, random_state = 2020, stratify = train['label'])"
   ]
  },
  {
   "cell_type": "code",
   "execution_count": 65,
   "metadata": {},
   "outputs": [
    {
     "name": "stdout",
     "output_type": "stream",
     "text": [
      "Logistic Regression Vader Kmeans\n",
      "Accuracy:\n",
      "0.9494230769230769\n",
      "Confusion Matrix:\n",
      "[[2385  212]\n",
      " [  51 2552]]\n",
      "Time taken:\n",
      "0:00:07.489097\n"
     ]
    }
   ],
   "source": [
    "from sklearn.linear_model import LogisticRegression\n",
    "from sklearn.metrics import confusion_matrix\n",
    "from datetime import datetime\n",
    "\n",
    "start=datetime.now()\n",
    "lr = LogisticRegression(max_iter = 6000)\n",
    "\n",
    "# train model\n",
    "\n",
    "lr.fit(data_train, y_train)\n",
    "\n",
    "lr_pred = lr.predict(data_val)\n",
    "print('Logistic Regression Vader Kmeans')\n",
    "print('Accuracy:')\n",
    "print(lr.score(data_val, y_val))\n",
    "print('Confusion Matrix:')\n",
    "print(confusion_matrix(y_val, lr_pred))\n",
    "print('Time taken:')\n",
    "print(datetime.now()-start)"
   ]
  },
  {
   "cell_type": "code",
   "execution_count": 66,
   "metadata": {},
   "outputs": [
    {
     "name": "stdout",
     "output_type": "stream",
     "text": [
      "TN: 2385\n",
      "FN: 51\n",
      "FP: 212\n",
      "TP: 2552\n"
     ]
    },
    {
     "data": {
      "image/png": "[encoded data removed]",
      "text/plain": [
       "<Figure size 432x288 with 2 Axes>"
      ]
     },
     "metadata": {},
     "output_type": "display_data"
    }
   ],
   "source": [
    "import seaborn as sns\n",
    "\n",
    "\n",
    "tn, fp, fn, tp = confusion_matrix(y_val, lr_pred).ravel()\n",
    "cm = [[tp,fn],[fp,tn]]\n",
    "\n",
    "print(\"TN:\", tn)\n",
    "print(\"FN:\", fn)\n",
    "print(\"FP:\", fp)\n",
    "print(\"TP:\", tp)\n",
    "\n",
    "ax= plt.subplot()\n",
    "sns.heatmap(cm, annot=True, fmt = \"d\", cmap=\"Spectral\"); #annot=True to annotate cells\n",
    "\n",
    "# labels, title and ticks\n",
    "ax.set_xlabel('ACTUAL LABELS');ax.set_ylabel('PREDICTED LABELS'); \n",
    "ax.set_title('Logistic Regression Vader Kmeans Confusion Matrix'); \n",
    "ax.xaxis.set_ticklabels(['Real', 'Fake']); ax.yaxis.set_ticklabels(['Real', 'Fake']);\n"
   ]
  },
  {
   "cell_type": "code",
   "execution_count": 67,
   "metadata": {},
   "outputs": [
    {
     "name": "stdout",
     "output_type": "stream",
     "text": [
      "Cross-Validation Accuracy Scores 94.94871794871796\n"
     ]
    }
   ],
   "source": [
    "from sklearn.model_selection import cross_val_score\n",
    "\n",
    "scores = cross_val_score(lr, data_train, y_train, cv=10)\n",
    "print('Cross-Validation Accuracy Scores', scores.mean()*100.0)"
   ]
  },
  {
   "cell_type": "code",
   "execution_count": 68,
   "metadata": {},
   "outputs": [
    {
     "data": {
      "text/html": [
       "<div>\n",
       "<style scoped>\n",
       "    .dataframe tbody tr th:only-of-type {\n",
       "        vertical-align: middle;\n",
       "    }\n",
       "\n",
       "    .dataframe tbody tr th {\n",
       "        vertical-align: top;\n",
       "    }\n",
       "\n",
       "    .dataframe thead th {\n",
       "        text-align: right;\n",
       "    }\n",
       "</style>\n",
       "<table border=\"1\" class=\"dataframe\">\n",
       "  <thead>\n",
       "    <tr style=\"text-align: right;\">\n",
       "      <th></th>\n",
       "      <th>id</th>\n",
       "    </tr>\n",
       "    <tr>\n",
       "      <th>label</th>\n",
       "      <th></th>\n",
       "    </tr>\n",
       "  </thead>\n",
       "  <tbody>\n",
       "    <tr>\n",
       "      <th>0</th>\n",
       "      <td>2728</td>\n",
       "    </tr>\n",
       "    <tr>\n",
       "      <th>1</th>\n",
       "      <td>2472</td>\n",
       "    </tr>\n",
       "  </tbody>\n",
       "</table>\n",
       "</div>"
      ],
      "text/plain": [
       "         id\n",
       "label      \n",
       "0      2728\n",
       "1      2472"
      ]
     },
     "execution_count": 68,
     "metadata": {},
     "output_type": "execute_result"
    }
   ],
   "source": [
    "predictions_lr = lr.predict(test_counts)\n",
    "\n",
    "pred_lr=pd.DataFrame(predictions_lr,columns=['label'])\n",
    "pred_lr['id']=test['id']\n",
    "pred_lr.groupby('label').count()"
   ]
  },
  {
   "cell_type": "code",
   "execution_count": 69,
   "metadata": {},
   "outputs": [
    {
     "data": {
      "text/plain": [
       "id       0\n",
       "label    0\n",
       "dtype: int64"
      ]
     },
     "execution_count": 69,
     "metadata": {},
     "output_type": "execute_result"
    }
   ],
   "source": [
    "pred_lr.to_csv('log_reg_countvect_vaderKmeans.csv', index=False)\n",
    "log_reg = pd.read_csv('log_reg_countvect_vaderKmeans.csv')\n",
    "log_reg.isna().sum().sort_values(ascending = False)"
   ]
  },
  {
   "cell_type": "markdown",
   "metadata": {},
   "source": [
    "# VADER LDA"
   ]
  },
  {
   "cell_type": "code",
   "execution_count": 70,
   "metadata": {},
   "outputs": [],
   "source": [
    "vectorizer = TfidfVectorizer()\n",
    "train_counts = vectorizer.fit_transform(train['text_clean'])\n",
    "test_counts = vectorizer.transform(test['text_clean'])"
   ]
  },
  {
   "cell_type": "code",
   "execution_count": 71,
   "metadata": {},
   "outputs": [
    {
     "data": {
      "text/plain": [
       "(<20800x110477 sparse matrix of type '<class 'numpy.float64'>'\n",
       " \twith 5316572 stored elements in Compressed Sparse Row format>,\n",
       " <5200x110477 sparse matrix of type '<class 'numpy.float64'>'\n",
       " \twith 1336821 stored elements in Compressed Sparse Row format>)"
      ]
     },
     "execution_count": 71,
     "metadata": {},
     "output_type": "execute_result"
    }
   ],
   "source": [
    "(train_counts, test_counts)"
   ]
  },
  {
   "cell_type": "code",
   "execution_count": 72,
   "metadata": {},
   "outputs": [
    {
     "name": "stdout",
     "output_type": "stream",
     "text": [
      "(20800, 110477)\n",
      "(5200, 110477)\n"
     ]
    }
   ],
   "source": [
    "print(train_counts.shape)\n",
    "print(test_counts.shape)"
   ]
  },
  {
   "cell_type": "code",
   "execution_count": 73,
   "metadata": {},
   "outputs": [],
   "source": [
    "# VADER LDA\n",
    "\n",
    "train_counts = hstack((train_counts,np.array(lda_enc_train[0])[:,None])).tocsr() \n",
    "train_counts = hstack((train_counts,np.array(lda_enc_train[1])[:,None])).tocsr() \n",
    "train_counts = hstack((train_counts,np.array(lda_enc_train[2])[:,None])).tocsr() \n",
    "train_counts = hstack((train_counts,np.array(lda_enc_train[3])[:,None])).tocsr() \n",
    "train_counts = hstack((train_counts,np.array(lda_enc_train[4])[:,None])).tocsr() \n",
    "train_counts = hstack((train_counts,np.array(train['text_vader_compound'])[:,None])).tocsr() \n",
    "\n",
    "test_counts = hstack((test_counts,np.array(lda_enc_test[0])[:,None])).tocsr() \n",
    "test_counts = hstack((test_counts,np.array(lda_enc_test[1])[:,None])).tocsr() \n",
    "test_counts = hstack((test_counts,np.array(lda_enc_test[2])[:,None])).tocsr() \n",
    "test_counts = hstack((test_counts,np.array(lda_enc_test[3])[:,None])).tocsr() \n",
    "test_counts = hstack((test_counts,np.array(lda_enc_test[4])[:,None])).tocsr() \n",
    "test_counts = hstack((test_counts,np.array(test['text_vader_compound'])[:,None])).tocsr() "
   ]
  },
  {
   "cell_type": "code",
   "execution_count": 74,
   "metadata": {},
   "outputs": [
    {
     "data": {
      "text/plain": [
       "(<20800x110483 sparse matrix of type '<class 'numpy.float64'>'\n",
       " \twith 5357611 stored elements in Compressed Sparse Row format>,\n",
       " <5200x110483 sparse matrix of type '<class 'numpy.float64'>'\n",
       " \twith 1347060 stored elements in Compressed Sparse Row format>)"
      ]
     },
     "execution_count": 74,
     "metadata": {},
     "output_type": "execute_result"
    }
   ],
   "source": [
    "(train_counts, test_counts)"
   ]
  },
  {
   "cell_type": "code",
   "execution_count": 75,
   "metadata": {},
   "outputs": [
    {
     "name": "stdout",
     "output_type": "stream",
     "text": [
      "(20800,)\n"
     ]
    }
   ],
   "source": [
    "y = train['label']\n",
    "y.sample(5)\n",
    "print(y.shape)"
   ]
  },
  {
   "cell_type": "code",
   "execution_count": 76,
   "metadata": {},
   "outputs": [],
   "source": [
    "# split dataset to training and test dataset\n",
    "\n",
    "from sklearn.model_selection import train_test_split\n",
    "\n",
    "# X_train, X_test, y_train, y_test\n",
    "data_train, data_val, y_train, y_val = train_test_split(train_counts, y, \n",
    "                                                          test_size = 0.25, random_state = 2020, stratify = train['label'])"
   ]
  },
  {
   "cell_type": "code",
   "execution_count": 77,
   "metadata": {},
   "outputs": [
    {
     "name": "stdout",
     "output_type": "stream",
     "text": [
      "Logistic Regression Vader LDA\n",
      "Accuracy:\n",
      "0.9382692307692307\n",
      "Confusion Matrix:\n",
      "[[2418  179]\n",
      " [ 142 2461]]\n",
      "Time taken:\n",
      "0:00:08.611539\n"
     ]
    }
   ],
   "source": [
    "from sklearn.linear_model import LogisticRegression\n",
    "from sklearn.metrics import confusion_matrix\n",
    "from datetime import datetime\n",
    "\n",
    "start=datetime.now()\n",
    "lr = LogisticRegression(max_iter = 6000)\n",
    "\n",
    "# train model\n",
    "\n",
    "lr.fit(data_train, y_train)\n",
    "\n",
    "lr_pred = lr.predict(data_val)\n",
    "print('Logistic Regression Vader LDA')\n",
    "print('Accuracy:')\n",
    "print(lr.score(data_val, y_val))\n",
    "print('Confusion Matrix:')\n",
    "print(confusion_matrix(y_val, lr_pred))\n",
    "print('Time taken:')\n",
    "print(datetime.now()-start)"
   ]
  },
  {
   "cell_type": "code",
   "execution_count": 78,
   "metadata": {},
   "outputs": [
    {
     "name": "stdout",
     "output_type": "stream",
     "text": [
      "TN: 2418\n",
      "FN: 142\n",
      "FP: 179\n",
      "TP: 2461\n"
     ]
    },
    {
     "data": {
      "image/png": "[encoded data removed]",
      "text/plain": [
       "<Figure size 432x288 with 2 Axes>"
      ]
     },
     "metadata": {},
     "output_type": "display_data"
    }
   ],
   "source": [
    "import seaborn as sns\n",
    "\n",
    "\n",
    "tn, fp, fn, tp = confusion_matrix(y_val, lr_pred).ravel()\n",
    "cm = [[tp,fn],[fp,tn]]\n",
    "\n",
    "print(\"TN:\", tn)\n",
    "print(\"FN:\", fn)\n",
    "print(\"FP:\", fp)\n",
    "print(\"TP:\", tp)\n",
    "\n",
    "ax= plt.subplot()\n",
    "sns.heatmap(cm, annot=True, fmt = \"d\", cmap=\"Spectral\"); #annot=True to annotate cells\n",
    "\n",
    "# labels, title and ticks\n",
    "ax.set_xlabel('ACTUAL LABELS');ax.set_ylabel('PREDICTED LABELS'); \n",
    "ax.set_title('Logistic Regression Vader LDA Confusion Matrix'); \n",
    "ax.xaxis.set_ticklabels(['Real', 'Fake']); ax.yaxis.set_ticklabels(['Real', 'Fake']);\n"
   ]
  },
  {
   "cell_type": "code",
   "execution_count": 79,
   "metadata": {},
   "outputs": [
    {
     "name": "stdout",
     "output_type": "stream",
     "text": [
      "Cross-Validation Accuracy Scores 93.49358974358975\n"
     ]
    }
   ],
   "source": [
    "from sklearn.model_selection import cross_val_score\n",
    "\n",
    "scores = cross_val_score(lr, data_train, y_train, cv=10)\n",
    "print('Cross-Validation Accuracy Scores', scores.mean()*100.0)"
   ]
  },
  {
   "cell_type": "code",
   "execution_count": 80,
   "metadata": {},
   "outputs": [
    {
     "data": {
      "text/html": [
       "<div>\n",
       "<style scoped>\n",
       "    .dataframe tbody tr th:only-of-type {\n",
       "        vertical-align: middle;\n",
       "    }\n",
       "\n",
       "    .dataframe tbody tr th {\n",
       "        vertical-align: top;\n",
       "    }\n",
       "\n",
       "    .dataframe thead th {\n",
       "        text-align: right;\n",
       "    }\n",
       "</style>\n",
       "<table border=\"1\" class=\"dataframe\">\n",
       "  <thead>\n",
       "    <tr style=\"text-align: right;\">\n",
       "      <th></th>\n",
       "      <th>id</th>\n",
       "    </tr>\n",
       "    <tr>\n",
       "      <th>label</th>\n",
       "      <th></th>\n",
       "    </tr>\n",
       "  </thead>\n",
       "  <tbody>\n",
       "    <tr>\n",
       "      <th>0</th>\n",
       "      <td>2329</td>\n",
       "    </tr>\n",
       "    <tr>\n",
       "      <th>1</th>\n",
       "      <td>2871</td>\n",
       "    </tr>\n",
       "  </tbody>\n",
       "</table>\n",
       "</div>"
      ],
      "text/plain": [
       "         id\n",
       "label      \n",
       "0      2329\n",
       "1      2871"
      ]
     },
     "execution_count": 80,
     "metadata": {},
     "output_type": "execute_result"
    }
   ],
   "source": [
    "predictions_lr = lr.predict(test_counts)\n",
    "\n",
    "pred_lr=pd.DataFrame(predictions_lr,columns=['label'])\n",
    "pred_lr['id']=test['id']\n",
    "pred_lr.groupby('label').count()"
   ]
  },
  {
   "cell_type": "code",
   "execution_count": 81,
   "metadata": {},
   "outputs": [
    {
     "data": {
      "text/plain": [
       "id       0\n",
       "label    0\n",
       "dtype: int64"
      ]
     },
     "execution_count": 81,
     "metadata": {},
     "output_type": "execute_result"
    }
   ],
   "source": [
    "pred_lr.to_csv('log_reg_countvect_vaderLDA.csv', index=False)\n",
    "log_reg = pd.read_csv('log_reg_countvect_vaderLDA.csv')\n",
    "log_reg.isna().sum().sort_values(ascending = False)"
   ]
  },
  {
   "cell_type": "code",
   "execution_count": null,
   "metadata": {},
   "outputs": [],
   "source": []
  },
  {
   "cell_type": "code",
   "execution_count": null,
   "metadata": {},
   "outputs": [],
   "source": []
  },
  {
   "cell_type": "code",
   "execution_count": null,
   "metadata": {},
   "outputs": [],
   "source": []
  }
 ],
 "metadata": {
  "kernelspec": {
   "display_name": "Python 3.7 (tensorflow)",
   "language": "python",
   "name": "tensorflow"
  },
  "language_info": {
   "codemirror_mode": {
    "name": "ipython",
    "version": 3
   },
   "file_extension": ".py",
   "mimetype": "text/x-python",
   "name": "python",
   "nbconvert_exporter": "python",
   "pygments_lexer": "ipython3",
   "version": "3.7.7"
  }
 },
 "nbformat": 4,
 "nbformat_minor": 4
}
