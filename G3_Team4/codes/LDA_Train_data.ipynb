{
 "cells": [
  {
   "cell_type": "code",
   "execution_count": 1,
   "metadata": {
    "id": "aekF3hdlTtEg"
   },
   "outputs": [
    {
     "name": "stdout",
     "output_type": "stream",
     "text": [
      "(20800, 5)\n"
     ]
    }
   ],
   "source": [
    "# import data\n",
    "from datetime import datetime\n",
    "begin = datetime.now()\n",
    "import pandas as pd\n",
    "import numpy as np\n",
    "train = pd.read_csv('train.csv/train.csv')\n",
    "train = pd.DataFrame(train)\n",
    "# data=data.dropna(subset=['title','text'])\n",
    "train['title'] = train['title'].astype(\"string\")\n",
    "train[\"text\"] = train[\"text\"].astype(\"string\")\n",
    "train[\"author\"] = train[\"author\"].astype(\"string\")\n",
    "\n",
    "train=train.fillna(' ')\n",
    "# check data\n",
    "print(train.shape)\n",
    "train.head(10)\n",
    "\n",
    "train.drop('author', axis = 1, inplace= True)\n",
    "\n",
    "#making dictionary {id:text}\n",
    "text_dict = {}\n",
    "for i in train.id:\n",
    "    text_dict[i] = train.text[i] #using text \n",
    "\n",
    "\n",
    "starwars_episodes =text_dict"
   ]
  },
  {
   "cell_type": "code",
   "execution_count": 2,
   "metadata": {},
   "outputs": [
    {
     "name": "stdout",
     "output_type": "stream",
     "text": [
      "(20800, 4)\n",
      "   id                                              title  \\\n",
      "0   0  House Dem Aide: We Didn’t Even See Comey’s Let...   \n",
      "1   1  FLYNN: Hillary Clinton, Big Woman on Campus - ...   \n",
      "2   2                  Why the Truth Might Get You Fired   \n",
      "3   3  15 Civilians Killed In Single US Airstrike Hav...   \n",
      "4   4  Iranian woman jailed for fictional unpublished...   \n",
      "\n",
      "                                                text  label  \n",
      "0  House Dem Aide: We Didn’t Even See Comey’s Let...      1  \n",
      "1  Ever get the feeling your life circles the rou...      0  \n",
      "2  Why the Truth Might Get You Fired October 29, ...      1  \n",
      "3  Videos 15 Civilians Killed In Single US Airstr...      1  \n",
      "4  Print \n",
      "An Iranian woman has been sentenced to ...      1  \n"
     ]
    }
   ],
   "source": [
    "print(train.shape)\n",
    "print(train.head(5))"
   ]
  },
  {
   "cell_type": "markdown",
   "metadata": {
    "id": "aan_QRxzHTWz"
   },
   "source": [
    "# LDA\n"
   ]
  },
  {
   "cell_type": "code",
   "execution_count": 3,
   "metadata": {
    "id": "jhkz8oeAODF0"
   },
   "outputs": [],
   "source": [
    "%matplotlib inline\n",
    "from matplotlib import pyplot as plt\n",
    "from wordcloud import WordCloud\n",
    "\n",
    "def display_topic(words_probabilities):\n",
    "    bows = []\n",
    "    [bows.extend([word] * (int(probability*100) + 1)) for word,probability in words_probabilities]\n",
    "    wordcloud = WordCloud(width = 800, height = 800, background_color ='white', min_font_size = 10).generate(' '.join(bows))\n",
    "    plt.figure(figsize=[3,3])\n",
    "    plt.imshow(wordcloud, interpolation='bilinear')\n",
    "    plt.axis(\"off\")"
   ]
  },
  {
   "cell_type": "code",
   "execution_count": 4,
   "metadata": {
    "id": "RzJb-3z56Yqi"
   },
   "outputs": [],
   "source": [
    "n_topics = 5"
   ]
  },
  {
   "cell_type": "code",
   "execution_count": 5,
   "metadata": {
    "id": "jEvNolZtuIuF"
   },
   "outputs": [],
   "source": [
    "import gensim\n",
    "docs = [[token.lower() for token in gensim.utils.tokenize(gensim.parsing.preprocessing.remove_stopwords(doc))] for doc in starwars_episodes.values()]\n",
    "vocab = gensim.corpora.Dictionary(docs)\n",
    "bow_corpus = [vocab.doc2bow(doc) for doc in docs]\n",
    "lda_model = gensim.models.LdaMulticore(bow_corpus, num_topics = n_topics, id2word = vocab, passes = 10, workers = 2)"
   ]
  },
  {
   "cell_type": "code",
   "execution_count": 6,
   "metadata": {},
   "outputs": [],
   "source": [
    "all_topics = lda_model.get_document_topics(bow_corpus, minimum_probability=0.0)\n",
    "all_topics_csr = gensim.matutils.corpus2csc(all_topics)\n",
    "all_topics_numpy = all_topics_csr.T.toarray()\n",
    "all_topics_df = pd.DataFrame(all_topics_numpy)"
   ]
  },
  {
   "cell_type": "code",
   "execution_count": 7,
   "metadata": {},
   "outputs": [
    {
     "data": {
      "text/html": [
       "<div>\n",
       "<style scoped>\n",
       "    .dataframe tbody tr th:only-of-type {\n",
       "        vertical-align: middle;\n",
       "    }\n",
       "\n",
       "    .dataframe tbody tr th {\n",
       "        vertical-align: top;\n",
       "    }\n",
       "\n",
       "    .dataframe thead th {\n",
       "        text-align: right;\n",
       "    }\n",
       "</style>\n",
       "<table border=\"1\" class=\"dataframe\">\n",
       "  <thead>\n",
       "    <tr style=\"text-align: right;\">\n",
       "      <th></th>\n",
       "      <th>0</th>\n",
       "      <th>1</th>\n",
       "      <th>2</th>\n",
       "      <th>3</th>\n",
       "      <th>4</th>\n",
       "    </tr>\n",
       "  </thead>\n",
       "  <tbody>\n",
       "    <tr>\n",
       "      <th>0</th>\n",
       "      <td>0.248891</td>\n",
       "      <td>0.000425</td>\n",
       "      <td>0.749842</td>\n",
       "      <td>0.000426</td>\n",
       "      <td>0.000417</td>\n",
       "    </tr>\n",
       "    <tr>\n",
       "      <th>1</th>\n",
       "      <td>0.098984</td>\n",
       "      <td>0.000550</td>\n",
       "      <td>0.695024</td>\n",
       "      <td>0.204905</td>\n",
       "      <td>0.000537</td>\n",
       "    </tr>\n",
       "    <tr>\n",
       "      <th>2</th>\n",
       "      <td>0.548927</td>\n",
       "      <td>0.040569</td>\n",
       "      <td>0.409936</td>\n",
       "      <td>0.000287</td>\n",
       "      <td>0.000281</td>\n",
       "    </tr>\n",
       "    <tr>\n",
       "      <th>3</th>\n",
       "      <td>0.906194</td>\n",
       "      <td>0.023575</td>\n",
       "      <td>0.000673</td>\n",
       "      <td>0.068897</td>\n",
       "      <td>0.000660</td>\n",
       "    </tr>\n",
       "    <tr>\n",
       "      <th>4</th>\n",
       "      <td>0.475192</td>\n",
       "      <td>0.002491</td>\n",
       "      <td>0.077013</td>\n",
       "      <td>0.442824</td>\n",
       "      <td>0.002480</td>\n",
       "    </tr>\n",
       "    <tr>\n",
       "      <th>...</th>\n",
       "      <td>...</td>\n",
       "      <td>...</td>\n",
       "      <td>...</td>\n",
       "      <td>...</td>\n",
       "      <td>...</td>\n",
       "    </tr>\n",
       "    <tr>\n",
       "      <th>20795</th>\n",
       "      <td>0.061002</td>\n",
       "      <td>0.001043</td>\n",
       "      <td>0.678715</td>\n",
       "      <td>0.258214</td>\n",
       "      <td>0.001027</td>\n",
       "    </tr>\n",
       "    <tr>\n",
       "      <th>20796</th>\n",
       "      <td>0.000340</td>\n",
       "      <td>0.000339</td>\n",
       "      <td>0.000339</td>\n",
       "      <td>0.998649</td>\n",
       "      <td>0.000333</td>\n",
       "    </tr>\n",
       "    <tr>\n",
       "      <th>20797</th>\n",
       "      <td>0.000423</td>\n",
       "      <td>0.536638</td>\n",
       "      <td>0.000420</td>\n",
       "      <td>0.462107</td>\n",
       "      <td>0.000413</td>\n",
       "    </tr>\n",
       "    <tr>\n",
       "      <th>20798</th>\n",
       "      <td>0.995354</td>\n",
       "      <td>0.001168</td>\n",
       "      <td>0.001161</td>\n",
       "      <td>0.001170</td>\n",
       "      <td>0.001146</td>\n",
       "    </tr>\n",
       "    <tr>\n",
       "      <th>20799</th>\n",
       "      <td>0.057710</td>\n",
       "      <td>0.659799</td>\n",
       "      <td>0.250428</td>\n",
       "      <td>0.031789</td>\n",
       "      <td>0.000275</td>\n",
       "    </tr>\n",
       "  </tbody>\n",
       "</table>\n",
       "<p>20800 rows × 5 columns</p>\n",
       "</div>"
      ],
      "text/plain": [
       "              0         1         2         3         4\n",
       "0      0.248891  0.000425  0.749842  0.000426  0.000417\n",
       "1      0.098984  0.000550  0.695024  0.204905  0.000537\n",
       "2      0.548927  0.040569  0.409936  0.000287  0.000281\n",
       "3      0.906194  0.023575  0.000673  0.068897  0.000660\n",
       "4      0.475192  0.002491  0.077013  0.442824  0.002480\n",
       "...         ...       ...       ...       ...       ...\n",
       "20795  0.061002  0.001043  0.678715  0.258214  0.001027\n",
       "20796  0.000340  0.000339  0.000339  0.998649  0.000333\n",
       "20797  0.000423  0.536638  0.000420  0.462107  0.000413\n",
       "20798  0.995354  0.001168  0.001161  0.001170  0.001146\n",
       "20799  0.057710  0.659799  0.250428  0.031789  0.000275\n",
       "\n",
       "[20800 rows x 5 columns]"
      ]
     },
     "execution_count": 7,
     "metadata": {},
     "output_type": "execute_result"
    }
   ],
   "source": [
    "all_topics_df"
   ]
  },
  {
   "cell_type": "code",
   "execution_count": 8,
   "metadata": {},
   "outputs": [
    {
     "data": {
      "text/plain": [
       "[('i', 0.01949073),\n",
       " ('s', 0.018649958),\n",
       " ('t', 0.010315183),\n",
       " ('it', 0.010113428),\n",
       " ('the', 0.009229711),\n",
       " ('clinton', 0.00835975),\n",
       " ('trump', 0.006888658),\n",
       " ('people', 0.0059810816),\n",
       " ('you', 0.00530397),\n",
       " ('hillary', 0.005278562)]"
      ]
     },
     "execution_count": 8,
     "metadata": {},
     "output_type": "execute_result"
    }
   ],
   "source": [
    "lda_model.show_topic(2)"
   ]
  },
  {
   "cell_type": "code",
   "execution_count": 9,
   "metadata": {},
   "outputs": [
    {
     "data": {
      "text/plain": [
       "[(0,\n",
       "  '0.022*\"s\" + 0.015*\"mr\" + 0.014*\"trump\" + 0.012*\"the\" + 0.012*\"said\" + 0.007*\"president\" + 0.005*\"state\" + 0.004*\"obama\" + 0.004*\"government\" + 0.004*\"in\"'),\n",
       " (1,\n",
       "  '0.016*\"s\" + 0.014*\"the\" + 0.005*\"percent\" + 0.005*\"it\" + 0.004*\"new\" + 0.004*\"said\" + 0.004*\"in\" + 0.004*\"people\" + 0.003*\"year\" + 0.003*\"company\"'),\n",
       " (2,\n",
       "  '0.019*\"i\" + 0.019*\"s\" + 0.010*\"t\" + 0.010*\"it\" + 0.009*\"the\" + 0.008*\"clinton\" + 0.007*\"trump\" + 0.006*\"people\" + 0.005*\"you\" + 0.005*\"hillary\"'),\n",
       " (3,\n",
       "  '0.021*\"s\" + 0.016*\"said\" + 0.013*\"the\" + 0.010*\"i\" + 0.010*\"mr\" + 0.006*\"it\" + 0.005*\"he\" + 0.005*\"ms\" + 0.004*\"new\" + 0.004*\"a\"'),\n",
       " (4,\n",
       "  '0.015*\"la\" + 0.012*\"в\" + 0.010*\"и\" + 0.010*\"en\" + 0.009*\"el\" + 0.008*\"que\" + 0.007*\"y\" + 0.005*\"на\" + 0.005*\"что\" + 0.005*\"los\"')]"
      ]
     },
     "execution_count": 9,
     "metadata": {},
     "output_type": "execute_result"
    }
   ],
   "source": [
    "lda_model.print_topics()"
   ]
  },
  {
   "cell_type": "code",
   "execution_count": 10,
   "metadata": {},
   "outputs": [
    {
     "data": {
      "text/html": [
       "<div>\n",
       "<style scoped>\n",
       "    .dataframe tbody tr th:only-of-type {\n",
       "        vertical-align: middle;\n",
       "    }\n",
       "\n",
       "    .dataframe tbody tr th {\n",
       "        vertical-align: top;\n",
       "    }\n",
       "\n",
       "    .dataframe thead th {\n",
       "        text-align: right;\n",
       "    }\n",
       "</style>\n",
       "<table border=\"1\" class=\"dataframe\">\n",
       "  <thead>\n",
       "    <tr style=\"text-align: right;\">\n",
       "      <th></th>\n",
       "      <th>Document_No</th>\n",
       "      <th>Dominant_Topic</th>\n",
       "      <th>Topic_Perc_Contrib</th>\n",
       "      <th>Keywords</th>\n",
       "      <th>Text</th>\n",
       "    </tr>\n",
       "  </thead>\n",
       "  <tbody>\n",
       "    <tr>\n",
       "      <th>0</th>\n",
       "      <td>0</td>\n",
       "      <td>2.0</td>\n",
       "      <td>0.7499</td>\n",
       "      <td>i s t it the clinton trump people you hillary</td>\n",
       "      <td>[house, dem, aide, we, didn, t, even, see, com...</td>\n",
       "    </tr>\n",
       "    <tr>\n",
       "      <th>1</th>\n",
       "      <td>1</td>\n",
       "      <td>2.0</td>\n",
       "      <td>0.6950</td>\n",
       "      <td>i s t it the clinton trump people you hillary</td>\n",
       "      <td>[ever, feeling, life, circles, roundabout, hea...</td>\n",
       "    </tr>\n",
       "    <tr>\n",
       "      <th>2</th>\n",
       "      <td>2</td>\n",
       "      <td>0.0</td>\n",
       "      <td>0.5489</td>\n",
       "      <td>s mr trump the said president state obama gove...</td>\n",
       "      <td>[why, truth, might, get, you, fired, october, ...</td>\n",
       "    </tr>\n",
       "    <tr>\n",
       "      <th>3</th>\n",
       "      <td>3</td>\n",
       "      <td>0.0</td>\n",
       "      <td>0.9062</td>\n",
       "      <td>s mr trump the said president state obama gove...</td>\n",
       "      <td>[videos, civilians, killed, in, single, us, ai...</td>\n",
       "    </tr>\n",
       "    <tr>\n",
       "      <th>4</th>\n",
       "      <td>4</td>\n",
       "      <td>0.0</td>\n",
       "      <td>0.4749</td>\n",
       "      <td>s mr trump the said president state obama gove...</td>\n",
       "      <td>[print, an, iranian, woman, sentenced, years, ...</td>\n",
       "    </tr>\n",
       "    <tr>\n",
       "      <th>5</th>\n",
       "      <td>5</td>\n",
       "      <td>2.0</td>\n",
       "      <td>0.8485</td>\n",
       "      <td>i s t it the clinton trump people you hillary</td>\n",
       "      <td>[in, trying, times, jackie, mason, voice, reas...</td>\n",
       "    </tr>\n",
       "    <tr>\n",
       "      <th>6</th>\n",
       "      <td>6</td>\n",
       "      <td>3.0</td>\n",
       "      <td>0.9328</td>\n",
       "      <td>s said the i mr it he ms new a</td>\n",
       "      <td>[ever, wonder, britain, s, iconic, pop, pianis...</td>\n",
       "    </tr>\n",
       "    <tr>\n",
       "      <th>7</th>\n",
       "      <td>7</td>\n",
       "      <td>0.0</td>\n",
       "      <td>0.4761</td>\n",
       "      <td>s mr trump the said president state obama gove...</td>\n",
       "      <td>[paris, france, chose, idealistic, traditional...</td>\n",
       "    </tr>\n",
       "    <tr>\n",
       "      <th>8</th>\n",
       "      <td>8</td>\n",
       "      <td>2.0</td>\n",
       "      <td>0.3988</td>\n",
       "      <td>i s t it the clinton trump people you hillary</td>\n",
       "      <td>[donald, j, trump, scheduled, highly, anticipa...</td>\n",
       "    </tr>\n",
       "    <tr>\n",
       "      <th>9</th>\n",
       "      <td>9</td>\n",
       "      <td>0.0</td>\n",
       "      <td>0.8920</td>\n",
       "      <td>s mr trump the said president state obama gove...</td>\n",
       "      <td>[a, week, michael, t, flynn, resigned, nationa...</td>\n",
       "    </tr>\n",
       "  </tbody>\n",
       "</table>\n",
       "</div>"
      ],
      "text/plain": [
       "   Document_No  Dominant_Topic  Topic_Perc_Contrib  \\\n",
       "0            0             2.0              0.7499   \n",
       "1            1             2.0              0.6950   \n",
       "2            2             0.0              0.5489   \n",
       "3            3             0.0              0.9062   \n",
       "4            4             0.0              0.4749   \n",
       "5            5             2.0              0.8485   \n",
       "6            6             3.0              0.9328   \n",
       "7            7             0.0              0.4761   \n",
       "8            8             2.0              0.3988   \n",
       "9            9             0.0              0.8920   \n",
       "\n",
       "                                            Keywords  \\\n",
       "0      i s t it the clinton trump people you hillary   \n",
       "1      i s t it the clinton trump people you hillary   \n",
       "2  s mr trump the said president state obama gove...   \n",
       "3  s mr trump the said president state obama gove...   \n",
       "4  s mr trump the said president state obama gove...   \n",
       "5      i s t it the clinton trump people you hillary   \n",
       "6                     s said the i mr it he ms new a   \n",
       "7  s mr trump the said president state obama gove...   \n",
       "8      i s t it the clinton trump people you hillary   \n",
       "9  s mr trump the said president state obama gove...   \n",
       "\n",
       "                                                Text  \n",
       "0  [house, dem, aide, we, didn, t, even, see, com...  \n",
       "1  [ever, feeling, life, circles, roundabout, hea...  \n",
       "2  [why, truth, might, get, you, fired, october, ...  \n",
       "3  [videos, civilians, killed, in, single, us, ai...  \n",
       "4  [print, an, iranian, woman, sentenced, years, ...  \n",
       "5  [in, trying, times, jackie, mason, voice, reas...  \n",
       "6  [ever, wonder, britain, s, iconic, pop, pianis...  \n",
       "7  [paris, france, chose, idealistic, traditional...  \n",
       "8  [donald, j, trump, scheduled, highly, anticipa...  \n",
       "9  [a, week, michael, t, flynn, resigned, nationa...  "
      ]
     },
     "execution_count": 10,
     "metadata": {},
     "output_type": "execute_result"
    }
   ],
   "source": [
    "def format_topics_sentences(ldamodel=lda_model, corpus=bow_corpus, texts=docs):\n",
    "    # Init output\n",
    "    sent_topics_df = pd.DataFrame()\n",
    "\n",
    "    # Get main topic in each document\n",
    "    for i, row in enumerate(ldamodel[corpus]):\n",
    "        row = sorted(row, key=lambda x: (x[1]), reverse=True)\n",
    "        # Get the Dominant topic, Perc Contribution and Keywords for each document\n",
    "        for j, (topic_num, prop_topic) in enumerate(row):\n",
    "            if j == 0:  # => dominant topic\n",
    "                wp = ldamodel.show_topic(topic_num)\n",
    "                topic_keywords = \" \".join([word for word, prop in wp])\n",
    "                sent_topics_df = sent_topics_df.append(pd.Series([int(topic_num), round(prop_topic,4), topic_keywords]), ignore_index=True)\n",
    "            else:\n",
    "                break\n",
    "    sent_topics_df.columns = ['Dominant_Topic', 'Perc_Contribution', 'Topic_Keywords']\n",
    "\n",
    "    # Add original text to the end of the output\n",
    "    contents = pd.Series(texts)\n",
    "    sent_topics_df = pd.concat([sent_topics_df, contents], axis=1)\n",
    "    return(sent_topics_df)\n",
    "\n",
    "\n",
    "df_topic_sents_keywords = format_topics_sentences(ldamodel=lda_model, corpus=bow_corpus, texts=docs)\n",
    "\n",
    "# Format\n",
    "df_dominant_topic = df_topic_sents_keywords.reset_index()\n",
    "df_dominant_topic.columns = ['Document_No', 'Dominant_Topic', 'Topic_Perc_Contrib', 'Keywords', 'Text']\n",
    "\n",
    "# Show\n",
    "df_dominant_topic.head(10)"
   ]
  },
  {
   "cell_type": "code",
   "execution_count": 11,
   "metadata": {},
   "outputs": [
    {
     "data": {
      "text/plain": [
       "(20800, 5)"
      ]
     },
     "execution_count": 11,
     "metadata": {},
     "output_type": "execute_result"
    }
   ],
   "source": [
    "df_dominant_topic.shape"
   ]
  },
  {
   "cell_type": "code",
   "execution_count": 12,
   "metadata": {},
   "outputs": [],
   "source": [
    "df_dominant_topic.to_csv('lda_train_text_5.csv', index=False)"
   ]
  },
  {
   "cell_type": "code",
   "execution_count": 13,
   "metadata": {
    "colab": {
     "base_uri": "https://localhost:8080/",
     "height": 1403
    },
    "id": "r8etY5l4QExN",
    "outputId": "fc7e1681-88d6-45c2-f0d9-e8446b441794"
   },
   "outputs": [
    {
     "data": {
      "image/png": "[encoded data removed]",
      "text/plain": [
       "<Figure size 216x216 with 1 Axes>"
      ]
     },
     "metadata": {
      "needs_background": "light"
     },
     "output_type": "display_data"
    },
    {
     "data": {
      "image/png": "[encoded data removed]",
      "text/plain": [
       "<Figure size 216x216 with 1 Axes>"
      ]
     },
     "metadata": {
      "needs_background": "light"
     },
     "output_type": "display_data"
    },
    {
     "data": {
      "image/png": "[encoded data removed]",
      "text/plain": [
       "<Figure size 216x216 with 1 Axes>"
      ]
     },
     "metadata": {
      "needs_background": "light"
     },
     "output_type": "display_data"
    },
    {
     "data": {
      "image/png": "[encoded data removed]",
      "text/plain": [
       "<Figure size 216x216 with 1 Axes>"
      ]
     },
     "metadata": {
      "needs_background": "light"
     },
     "output_type": "display_data"
    },
    {
     "data": {
      "image/png": "[encoded data removed]",
      "text/plain": [
       "<Figure size 216x216 with 1 Axes>"
      ]
     },
     "metadata": {
      "needs_background": "light"
     },
     "output_type": "display_data"
    }
   ],
   "source": [
    "for topic_no in range(n_topics):\n",
    "    display_topic(lda_model.show_topic(topic_no))"
   ]
  },
  {
   "cell_type": "markdown",
   "metadata": {
    "id": "Nlb1xDQPbF8u"
   },
   "source": [
    "# Clustering"
   ]
  },
  {
   "cell_type": "code",
   "execution_count": 14,
   "metadata": {
    "id": "mCSTT0fOwev2"
   },
   "outputs": [],
   "source": [
    "# from scipy.spatial.distance import cosine\n",
    "# from mpl_toolkits.mplot3d import axes3d, Axes3D \n",
    "# from sklearn.cluster import KMeans, DBSCAN\n",
    "# from sklearn.decomposition import PCA\n",
    "# import pandas as pd\n",
    "# import seaborn as sns\n",
    "# import numpy as np\n",
    "\n",
    "# def k_cluster(vectors, k):\n",
    "#     clusterer = KMeans(n_clusters = k)\n",
    "#     clusterer.fit(vectors)\n",
    "#     return clusterer.labels_\n",
    "\n",
    "# def d_cluster(vectors):\n",
    "#   clusterer = DBSCAN(eps=20, min_samples=3)\n",
    "#   clusterer.fit(vectors)\n",
    "#   return clusterer.labels_\n",
    "\n",
    "# def plot_clusters(words, svectors, clusters):\n",
    "#   pca = PCA(n_components=3)\n",
    "#   principalComponents = pca.fit_transform(svectors)\n",
    "  \n",
    "#   dataframe = pd.DataFrame(data = principalComponents, columns = ['x', 'y','z'])\n",
    "\n",
    "#   sns.set_style(\"whitegrid\")\n",
    "#   palette = sns.color_palette(\"husl\", max(set(clusters))+1) + ['grey']\n",
    "#   dataframe['colour'] = pd.Series([palette[i] for i in clusters])\n",
    "  \n",
    "#   fig = plt.figure()\n",
    "#   graph = Axes3D(fig)\n",
    "#   [graph.text(x, z, y, s, 'x', color = c) for x, y, z, s, c in zip(dataframe['x'], dataframe['y'], dataframe['z'], words, dataframe['colour'])]\n",
    "#   graph.set_xlim(min(dataframe['x']), max(dataframe['x']))\n",
    "#   graph.set_ylim(min(dataframe['z']), max(dataframe['z']))\n",
    "#   graph.set_zlim(min(dataframe['y']), max(dataframe['y']))\n",
    "#   plt.show()\n",
    "  \n",
    "#   graph2=sns.regplot(data=dataframe, x=\"x\", y=\"y\", fit_reg=False, marker=\"+\")\n",
    "#   [graph2.text(x, y, s,color=c) for x,y,s,c in zip(dataframe['x'],dataframe['y'],words,dataframe[\"colour\"])]\n",
    "\n",
    "# def cluster_centre(cluster_vectors):\n",
    "#   return np.mean( np.array(cluster_vectors), axis=0 )\n",
    "  \n",
    "# def name_cluster(cluster_words, cluster_vectors):\n",
    "#   cc_vector = cluster_centre(cluster_vectors)\n",
    "#   vector_distances = [cosine(vector,cc_vector) for vector in cluster_vectors]\n",
    "#   return cluster_words[np.argmin(vector_distances)]"
   ]
  },
  {
   "cell_type": "markdown",
   "metadata": {
    "id": "kwxuvKe-xyb9"
   },
   "source": [
    "convert words to vectors (e.g. spacy - feel free to use others)"
   ]
  },
  {
   "cell_type": "code",
   "execution_count": 15,
   "metadata": {
    "id": "wyaqvAWCxUwK"
   },
   "outputs": [],
   "source": [
    "# import spacy\n",
    "# sp =  spacy.load('en')\n",
    "# sp_text = sp('\\n'.join(starwars_episodes.values()).lower())\n",
    "# sp_words = [word.text for word in sp_text if word.is_alpha and not word.is_stop]\n",
    "# sp_vectors = [word.vector for word in sp_text if word.is_alpha and not word.is_stop]"
   ]
  },
  {
   "cell_type": "markdown",
   "metadata": {
    "id": "a19q3NUmAj52"
   },
   "source": [
    "## K-Means\n",
    "cluster the word vectors using k-means clustering (number of clusters are determined by you)"
   ]
  },
  {
   "cell_type": "code",
   "execution_count": 16,
   "metadata": {
    "id": "qH1spxKuApTy"
   },
   "outputs": [],
   "source": [
    "# clusterer_labels = k_cluster(sp_vectors, n_topics)"
   ]
  },
  {
   "cell_type": "code",
   "execution_count": 17,
   "metadata": {
    "colab": {
     "base_uri": "https://localhost:8080/",
     "height": 585
    },
    "id": "7p5p-CFVAtTK",
    "outputId": "c5cc1496-d769-4874-944e-51f2cd272d5e"
   },
   "outputs": [],
   "source": [
    "# plot_clusters(sp_words, sp_vectors, clusterer_labels)"
   ]
  },
  {
   "cell_type": "code",
   "execution_count": 18,
   "metadata": {
    "colab": {
     "base_uri": "https://localhost:8080/",
     "height": 136
    },
    "id": "peNP-m2DFYbt",
    "outputId": "e09f7537-fa6f-4e8c-b417-f8dd0369da22"
   },
   "outputs": [],
   "source": [
    "# clusters = {i:[] for i in set(clusterer_labels)}\n",
    "# for idx,cluster_number in enumerate(clusterer_labels):\n",
    "#     clusters[cluster_number].append(idx)\n",
    "\n",
    "# [f\"{cluster_no}:{name_cluster([sp_words[i] for i in cluster_ids], [sp_vectors[i] for i in cluster_ids])}\" for cluster_no,cluster_ids in clusters.items() if cluster_no > -1]"
   ]
  },
  {
   "cell_type": "code",
   "execution_count": 19,
   "metadata": {
    "colab": {
     "base_uri": "https://localhost:8080/",
     "height": 3993
    },
    "id": "pxjJTHXsFbJw",
    "outputId": "c5699a5a-90c3-4440-b1a6-88aacbab56b2"
   },
   "outputs": [],
   "source": [
    "# for cluster_number,cluster_ids in clusters.items():\n",
    "#     if cluster_number > -1:\n",
    "#         cluster_words = [sp_words[i] for i in cluster_ids] \n",
    "#         cluster_vectors = [sp_vectors[i] for i in cluster_ids]\n",
    "\n",
    "#         cluster_name = name_cluster(cluster_words, cluster_vectors)\n",
    "#         cluster_words += [f'{cluster_number}:{cluster_name.upper()}']\n",
    "\n",
    "#         cc_vector = cluster_centre(cluster_vectors)\n",
    "#         cluster_vectors.append(cc_vector)\n",
    "\n",
    "#         cluster_colour = [cluster_number]*len(cluster_ids) +  [cluster_number - 1]\n",
    "\n",
    "#     plot_clusters(cluster_words, cluster_vectors, cluster_colour)"
   ]
  },
  {
   "cell_type": "markdown",
   "metadata": {
    "id": "YhkBrkk8x5Mv"
   },
   "source": [
    "## DBScan\n",
    "cluster the word vectors using a density based algorithm (number of clusters are automatically determined by the algorithm)"
   ]
  },
  {
   "cell_type": "code",
   "execution_count": 20,
   "metadata": {
    "colab": {
     "base_uri": "https://localhost:8080/",
     "height": 34
    },
    "id": "tH09SxoKx4he",
    "outputId": "19f5b771-4fdd-4998-96b5-43d91bc23511"
   },
   "outputs": [],
   "source": [
    "# clusterer_labels = d_cluster(sp_vectors)\n",
    "# len(set(clusterer_labels))"
   ]
  },
  {
   "cell_type": "code",
   "execution_count": 21,
   "metadata": {
    "colab": {
     "base_uri": "https://localhost:8080/",
     "height": 585
    },
    "id": "l-1jSmc1yyx0",
    "outputId": "e0e44f7a-550d-4f74-829d-afdb5ff02a76"
   },
   "outputs": [],
   "source": [
    "# plot_clusters(sp_words, sp_vectors, clusterer_labels)"
   ]
  },
  {
   "cell_type": "code",
   "execution_count": 22,
   "metadata": {
    "colab": {
     "base_uri": "https://localhost:8080/",
     "height": 34
    },
    "id": "ONflMXvc4jML",
    "outputId": "5dc4cbdd-f4c4-43ef-88d8-ef9ef8f357de"
   },
   "outputs": [],
   "source": [
    "# clusters = {i:[] for i in set(clusterer_labels)}\n",
    "# for idx,cluster_number in enumerate(clusterer_labels):\n",
    "#     clusters[cluster_number].append(idx)\n",
    "\n",
    "# [f\"{cluster_no}:{name_cluster([sp_words[i] for i in cluster_ids], [sp_vectors[i] for i in cluster_ids])}\" for cluster_no,cluster_ids in clusters.items() if cluster_no > -1]"
   ]
  },
  {
   "cell_type": "code",
   "execution_count": 23,
   "metadata": {
    "colab": {
     "base_uri": "https://localhost:8080/",
     "height": 3425
    },
    "id": "m0RZKiSe-MfD",
    "outputId": "d332e4db-76a2-4e6e-e16d-667967584883"
   },
   "outputs": [],
   "source": [
    "# for cluster_number,cluster_ids in clusters.items():\n",
    "#     if cluster_number > -1:\n",
    "#         cluster_words = [sp_words[i] for i in cluster_ids] \n",
    "#         cluster_vectors = [sp_vectors[i] for i in cluster_ids]\n",
    "\n",
    "#         cluster_name = name_cluster(cluster_words, cluster_vectors)\n",
    "#         cluster_words += [f'{cluster_number}:{cluster_name.upper()}']\n",
    "\n",
    "#         cc_vector = cluster_centre(cluster_vectors)\n",
    "#         cluster_vectors.append(cc_vector)\n",
    "\n",
    "#         cluster_colour = [cluster_number]*len(cluster_ids) +  [cluster_number - 1]\n",
    "\n",
    "#         plot_clusters(cluster_words, cluster_vectors, cluster_colour)"
   ]
  }
 ],
 "metadata": {
  "accelerator": "GPU",
  "colab": {
   "collapsed_sections": [],
   "name": "Topics.ipynb",
   "provenance": []
  },
  "kernelspec": {
   "display_name": "Python 3",
   "language": "python",
   "name": "python3"
  },
  "language_info": {
   "codemirror_mode": {
    "name": "ipython",
    "version": 3
   },
   "file_extension": ".py",
   "mimetype": "text/x-python",
   "name": "python",
   "nbconvert_exporter": "python",
   "pygments_lexer": "ipython3",
   "version": "3.7.7"
  }
 },
 "nbformat": 4,
 "nbformat_minor": 1
}
